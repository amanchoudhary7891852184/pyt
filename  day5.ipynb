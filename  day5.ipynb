{
 "cells": [
  {
   "cell_type": "markdown",
   "id": "61fa795a-f25f-493a-9c07-e1f0cf82ca2d",
   "metadata": {},
   "source": [
    "## while loop"
   ]
  },
  {
   "cell_type": "code",
   "execution_count": 2,
   "id": "344ea71f-7257-42aa-99bd-c3f276ff0390",
   "metadata": {},
   "outputs": [
    {
     "name": "stdout",
     "output_type": "stream",
     "text": [
      "1 hi\n",
      "2 hi\n",
      "3 hi\n",
      "4 hi\n"
     ]
    }
   ],
   "source": [
    "for i in range(1,5):\n",
    "    print(i,'hi')"
   ]
  },
  {
   "cell_type": "code",
   "execution_count": 3,
   "id": "15e12619-d856-4585-89a0-ca30f19c040e",
   "metadata": {},
   "outputs": [
    {
     "name": "stdout",
     "output_type": "stream",
     "text": [
      "hi 1\n",
      "hi 2\n",
      "hi 3\n",
      "hi 4\n",
      "hi 5\n"
     ]
    }
   ],
   "source": [
    "i=1\n",
    "while(i<5+1):\n",
    "    print('hi',i)\n",
    "\n",
    "    i+=1"
   ]
  },
  {
   "cell_type": "code",
   "execution_count": 6,
   "id": "de86e05d-fabe-4d5f-ae19-1c9c138b3ac3",
   "metadata": {},
   "outputs": [
    {
     "name": "stdout",
     "output_type": "stream",
     "text": [
      "1\n",
      "2\n",
      "3\n",
      "4\n",
      "5\n",
      "6\n",
      "7\n",
      "8\n",
      "9\n",
      "10\n",
      "11\n",
      "12\n",
      "13\n",
      "14\n",
      "15\n",
      "120"
     ]
    }
   ],
   "source": [
    "i=1\n",
    "s=0\n",
    "while(i<16):\n",
    "    print(i)\n",
    "    s=s+i\n",
    "    i+=1\n",
    "print(s ,end='')"
   ]
  },
  {
   "cell_type": "code",
   "execution_count": 8,
   "id": "9f6685ae-f353-4221-9840-e3666eeb8574",
   "metadata": {
    "scrolled": true
   },
   "outputs": [
    {
     "name": "stdout",
     "output_type": "stream",
     "text": [
      "50\n",
      "49\n",
      "48\n",
      "47\n",
      "46\n",
      "45\n",
      "44\n",
      "43\n",
      "42\n",
      "41\n",
      "40\n",
      "39\n",
      "38\n",
      "37\n",
      "36\n",
      "35\n",
      "34\n",
      "33\n",
      "32\n",
      "31\n",
      "30\n",
      "29\n",
      "28\n",
      "27\n",
      "26\n",
      "25\n",
      "24\n"
     ]
    }
   ],
   "source": [
    "i=50\n",
    "while(i>=24):\n",
    "    print(i)\n",
    "\n",
    "    i-=1"
   ]
  },
  {
   "cell_type": "code",
   "execution_count": 14,
   "id": "d6b2985c-291e-48d5-8639-6e3b8e77c934",
   "metadata": {
    "scrolled": true
   },
   "outputs": [
    {
     "name": "stdout",
     "output_type": "stream",
     "text": [
      "even 50\n",
      "odd 49\n",
      "even 48\n",
      "odd 47\n",
      "even 46\n",
      "odd 45\n",
      "even 44\n",
      "odd 43\n",
      "even 42\n",
      "odd 41\n",
      "even 40\n",
      "odd 39\n",
      "even 38\n",
      "odd 37\n",
      "even 36\n",
      "odd 35\n",
      "even 34\n",
      "odd 33\n",
      "even 32\n",
      "odd 31\n",
      "even 30\n",
      "odd 29\n",
      "even 28\n",
      "odd 27\n",
      "even 26\n",
      "odd 25\n",
      "even 24\n"
     ]
    }
   ],
   "source": [
    "i=50\n",
    "while(i>=24):\n",
    "    if(i%2==0):\n",
    "        print('even',i)\n",
    "    else:\n",
    "        print(\"odd\",i)\n",
    "    i=i-1"
   ]
  },
  {
   "cell_type": "code",
   "execution_count": null,
   "id": "875cb546-3aa6-448f-b3e3-41fad7125c16",
   "metadata": {},
   "outputs": [],
   "source": [
    " "
   ]
  },
  {
   "cell_type": "code",
   "execution_count": 44,
   "id": "71bb4878-8dfe-4c5d-95a5-251988b6ec89",
   "metadata": {},
   "outputs": [
    {
     "name": "stdout",
     "output_type": "stream",
     "text": [
      "18 count even and 18 and count of odd\n"
     ]
    }
   ],
   "source": [
    "i=2\n",
    "s=0\n",
    "x=0\n",
    "while(i<=37):\n",
    "    if(i%2==0):\n",
    "        s=s+1\n",
    "         \n",
    "    else:\n",
    "        x=x+1\n",
    "        \n",
    "    i+=1\n",
    "print(f\"{s} count even and {x} and count of odd\")"
   ]
  },
  {
   "cell_type": "code",
   "execution_count": 21,
   "id": "e5e389ea-dad4-47e8-9b2d-003544de9519",
   "metadata": {},
   "outputs": [
    {
     "name": "stdout",
     "output_type": "stream",
     "text": [
      "315\n"
     ]
    }
   ],
   "source": [
    "i=3\n",
    "s=0\n",
    "while(i<=42):\n",
    "    if(i%3==0):\n",
    "        s=s+i\n",
    "    i=i+1\n",
    "print(s)\n"
   ]
  },
  {
   "cell_type": "code",
   "execution_count": 42,
   "id": "c6f5aff5-0514-465b-a85e-d588402178e2",
   "metadata": {},
   "outputs": [
    {
     "name": "stdout",
     "output_type": "stream",
     "text": [
      "count of odd number14 and sum of odd number is 896\n"
     ]
    }
   ],
   "source": [
    "i=78\n",
    "s=0\n",
    "x=0\n",
    "while(i>=51):\n",
    "    if(i%2!=0):\n",
    "        s=s+1\n",
    "        x=x+i\n",
    "        \n",
    "    i-=1\n",
    " \n",
    "        \n",
    "print(f\"count of odd number{s} and sum of odd number is {x}\")\n"
   ]
  },
  {
   "cell_type": "code",
   "execution_count": 9,
   "id": "8426816f-57b6-4fab-b7b9-34ecc01417e3",
   "metadata": {},
   "outputs": [
    {
     "name": "stdout",
     "output_type": "stream",
     "text": [
      "reminder of 7 and  14 \n",
      "reminder of 4 and  1 \n",
      "reminder of 1 and  0 \n"
     ]
    }
   ],
   "source": [
    "n=147\n",
    "rem=0\n",
    "\n",
    "while(n>0):\n",
    "    rem=n%10\n",
    " \n",
    "    n=n//10\n",
    "    print(f\"reminder of {rem} and  {n} \")\n",
    "    "
   ]
  },
  {
   "cell_type": "code",
   "execution_count": 31,
   "id": "b1e309ad-70ec-4ae0-b7ad-1d323ff9d3d6",
   "metadata": {},
   "outputs": [
    {
     "name": "stdout",
     "output_type": "stream",
     "text": [
      "13\n"
     ]
    }
   ],
   "source": [
    "n=1345\n",
    "rem=0\n",
    "sum=0\n",
    "while(n>0):\n",
    "    rem=n%10\n",
    "    sum=sum+rem\n",
    "    n=n//10\n",
    "print(sum)\n",
    "    "
   ]
  },
  {
   "cell_type": "code",
   "execution_count": 51,
   "id": "2b937a10-ae9f-49b6-b47d-dee1fb15ae0c",
   "metadata": {},
   "outputs": [
    {
     "name": "stdout",
     "output_type": "stream",
     "text": [
      "arm 153\n"
     ]
    }
   ],
   "source": [
    "n=153\n",
    "total=0\n",
    "while(n>0):\n",
    "    rem=n%10\n",
    "    total=total+rem**3\n",
    "    n=n//10\n",
    "print('arm',total)\n",
    "    "
   ]
  },
  {
   "cell_type": "code",
   "execution_count": null,
   "id": "0e5c28d5-d363-4159-bfa8-18099e46bcae",
   "metadata": {},
   "outputs": [],
   "source": []
  }
 ],
 "metadata": {
  "kernelspec": {
   "display_name": "Python 3 (ipykernel)",
   "language": "python",
   "name": "python3"
  },
  "language_info": {
   "codemirror_mode": {
    "name": "ipython",
    "version": 3
   },
   "file_extension": ".py",
   "mimetype": "text/x-python",
   "name": "python",
   "nbconvert_exporter": "python",
   "pygments_lexer": "ipython3",
   "version": "3.12.3"
  }
 },
 "nbformat": 4,
 "nbformat_minor": 5
}
