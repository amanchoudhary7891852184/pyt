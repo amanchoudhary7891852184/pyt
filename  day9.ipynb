{
 "cells": [
  {
   "cell_type": "code",
   "execution_count": 39,
   "id": "4e25b160-6b5c-4c37-976f-4382222bd513",
   "metadata": {},
   "outputs": [
    {
     "name": "stdout",
     "output_type": "stream",
     "text": [
      "----* \n",
      "---* * \n",
      "--* * * \n",
      "-* * * * \n"
     ]
    }
   ],
   "source": [
    "num=5\n",
    "for i in range(1,num):\n",
    "    for j in range(i,num):\n",
    "        print(\"-\",end=\"\")\n",
    "    for k in range(1,i+1):\n",
    "        print(\"*\",end=\" \")\n",
    "    print()"
   ]
  },
  {
   "cell_type": "code",
   "execution_count": 35,
   "id": "462a384d-44ba-4e39-ae41-48a880ba1118",
   "metadata": {},
   "outputs": [
    {
     "name": "stdout",
     "output_type": "stream",
     "text": [
      "* * * * \n",
      "-* * * \n",
      "--* * \n",
      "---* \n"
     ]
    }
   ],
   "source": [
    "num=5\n",
    "for i in range(num,1,-1):\n",
    "    for j in range(i,num):\n",
    "        print(\"-\",end=\"\")\n",
    "    for k in range(1,i):\n",
    "        print(\"*\",end=\" \")\n",
    "    print()"
   ]
  },
  {
   "cell_type": "code",
   "execution_count": 117,
   "id": "19dd6c8f-3b1a-455c-9825-9a751db00895",
   "metadata": {},
   "outputs": [
    {
     "name": "stdout",
     "output_type": "stream",
     "text": [
      "- - - * \n",
      "- - * * * \n",
      "- * * * * * \n",
      "* * * * * * * \n"
     ]
    }
   ],
   "source": [
    "count=1\n",
    "for i in range(1,5):\n",
    "    for j in range(i,4):\n",
    "        print(\"-\",end=\" \")\n",
    "    for k in range(1,2*i):\n",
    "        print(\"*\",end=\" \")\n",
    "        count+=2\n",
    "    print()"
   ]
  },
  {
   "cell_type": "code",
   "execution_count": 153,
   "id": "7c70b747-1994-46dc-b7be-242a91e78232",
   "metadata": {},
   "outputs": [
    {
     "name": "stdout",
     "output_type": "stream",
     "text": [
      "* * * * * \n",
      "- * * * \n",
      "- - * \n"
     ]
    }
   ],
   "source": [
    "for i in range(3,0,-1):\n",
    "    for j in range(i,3):\n",
    "        print(\"-\",end=\" \")\n",
    "    for k in range(1,2*i):\n",
    "        print(\"*\",end=\" \")\n",
    "    print()"
   ]
  },
  {
   "cell_type": "code",
   "execution_count": 185,
   "id": "dace4531-3468-4a79-b02b-2cc472207a16",
   "metadata": {},
   "outputs": [
    {
     "name": "stdout",
     "output_type": "stream",
     "text": [
      "* * * * * * * \n",
      "- * * * * * \n",
      "- - * * * \n",
      "- - - * \n"
     ]
    }
   ],
   "source": [
    "# method 2a\n",
    "num=4\n",
    "total=num*2\n",
    "for i in range(1,num+1):\n",
    "    for j in range(1,i):\n",
    "        print(\"-\",end=\" \")\n",
    "    for k in range(1,total):\n",
    "        print(\"*\",end=\" \")\n",
    "    total-=2\n",
    "    print()"
   ]
  },
  {
   "cell_type": "markdown",
   "id": "db66d5e7-ac14-4155-8344-a86576eb366c",
   "metadata": {},
   "source": [
    "## hollow pattern"
   ]
  },
  {
   "cell_type": "code",
   "execution_count": 243,
   "id": "25b3a709-6a6e-4db8-a3d6-b307190e8694",
   "metadata": {},
   "outputs": [
    {
     "name": "stdout",
     "output_type": "stream",
     "text": [
      "*  \n",
      "* *  \n",
      "*   *  \n",
      "* * * *  \n"
     ]
    }
   ],
   "source": [
    "num=4\n",
    "for i in range(1,num+1):\n",
    "    for j in range(1,i+1):\n",
    "        if i==num or i==j or j==1 :\n",
    "            print(\"*\",end=\" \")\n",
    "        else:\n",
    "            print(\" \",end=\" \")\n",
    "    print(\" \")"
   ]
  },
  {
   "cell_type": "code",
   "execution_count": 303,
   "id": "84d5b1d9-ccef-409e-a3d1-3abd3817d626",
   "metadata": {},
   "outputs": [
    {
     "name": "stdout",
     "output_type": "stream",
     "text": [
      "\n",
      "\n",
      "\n",
      "\n"
     ]
    }
   ],
   "source": [
    "num=4\n",
    "for i in range(num,0,-1):\n",
    "    for j in range(1,i+1,-1):\n",
    "        if i==1 or i==4 or j==1 or i==j:\n",
    "            print(\"*\",end=\" \")\n",
    "        else:\n",
    "            print(\" \",end=\" \")\n",
    "    print()"
   ]
  },
  {
   "cell_type": "code",
   "execution_count": 305,
   "id": "34a9991f-3391-4158-8236-072a760b9a8d",
   "metadata": {},
   "outputs": [
    {
     "name": "stdout",
     "output_type": "stream",
     "text": [
      "* * * * * \n",
      "* - - * \n",
      "* - * \n",
      "* * \n",
      "* \n"
     ]
    }
   ],
   "source": [
    "num=5\n",
    "for i in range(1,num+1):\n",
    "    for j in range(num,i-1,-1): # (1,6-i)\n",
    "        if i==1 or j==num or i==j:\n",
    "            print(\"*\",end=\" \")\n",
    "        else:\n",
    "            print(\"-\",end=\" \")\n",
    "    print()\n"
   ]
  },
  {
   "cell_type": "code",
   "execution_count": null,
   "id": "1294e96d-ecff-4574-9f22-c0dead72297f",
   "metadata": {},
   "outputs": [],
   "source": []
  }
 ],
 "metadata": {
  "kernelspec": {
   "display_name": "Python 3 (ipykernel)",
   "language": "python",
   "name": "python3"
  },
  "language_info": {
   "codemirror_mode": {
    "name": "ipython",
    "version": 3
   },
   "file_extension": ".py",
   "mimetype": "text/x-python",
   "name": "python",
   "nbconvert_exporter": "python",
   "pygments_lexer": "ipython3",
   "version": "3.12.3"
  }
 },
 "nbformat": 4,
 "nbformat_minor": 5
}
