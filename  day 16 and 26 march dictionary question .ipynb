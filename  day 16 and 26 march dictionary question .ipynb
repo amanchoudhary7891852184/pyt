{
 "cells": [
  {
   "cell_type": "markdown",
   "id": "f027f527-972c-4808-b7ef-e79c593d6dea",
   "metadata": {},
   "source": [
    "##wap for s=\"aab\" and find occurence and combination "
   ]
  },
  {
   "cell_type": "code",
   "execution_count": 36,
   "id": "8ce4c16c-70b2-4293-bccb-595b8dfef0a1",
   "metadata": {},
   "outputs": [
    {
     "name": "stdout",
     "output_type": "stream",
     "text": [
      "0 a\n",
      "1 b\n",
      "2 c\n",
      "{'ab': 1, 'ac': 1, 'bb': 2, 'bc': 2, 'cb': 3, 'cc': 3}\n"
     ]
    }
   ],
   "source": [
    "d={}\n",
    "s=\"abc\"\n",
    "c=0\n",
    "for i in range(0,len(s)):\n",
    "    print(i,s[i])\n",
    "    for j in range(1,len(s)):\n",
    "        if (s[i]+s[j] not in d):\n",
    "            d[s[i]+s[j]]=i+1\n",
    "print(d)"
   ]
  },
  {
   "cell_type": "code",
   "execution_count": 68,
   "id": "0b85be8f-5c8a-4543-8b73-1fca176d20bf",
   "metadata": {},
   "outputs": [
    {
     "name": "stdout",
     "output_type": "stream",
     "text": [
      "{'a': 2, 'ab': 1, 'ac': 1, 'aa': 1, 'b': 1, 'bc': 1, 'ba': 1, 'c': 1, 'ca': 1}\n"
     ]
    }
   ],
   "source": [
    "d={}\n",
    "s=\"abca\"\n",
    "c=0\n",
    "for i in range(0,len(s)):\n",
    "    if (s[i] not in d):\n",
    "            d[s[i]]=1\n",
    "    else:\n",
    "        d[s[i]]+=1\n",
    "    for j in range(i+1,len(s)):\n",
    "        if (s[i]+s[j] not in d):\n",
    "            d[s[i]+s[j]]=1\n",
    "        else:\n",
    "            d[s[i]]+=1\n",
    "            \n",
    "print(d)"
   ]
  },
  {
   "cell_type": "code",
   "execution_count": 76,
   "id": "0d3370e1-d38b-4104-b5a3-5df524343ce8",
   "metadata": {},
   "outputs": [
    {
     "name": "stdout",
     "output_type": "stream",
     "text": [
      "{'a': 2, 'ab': 1, 'ac': 1, 'aa': 1, 'b': 1, 'bc': 1, 'ba': 1, 'c': 1, 'ca': 1, 'abca': 1}\n"
     ]
    }
   ],
   "source": [
    "d={}\n",
    "s=\"abca\"\n",
    "c=0\n",
    "for i in range(0,len(s)):\n",
    "    if (s[i] not in d):\n",
    "            d[s[i]]=1\n",
    "    else:\n",
    "        d[s[i]]+=1\n",
    "    \n",
    "    for j in range(i+1,len(s)):\n",
    "        if (s[i]+s[j] not in d):\n",
    "            d[s[i]+s[j]]=1\n",
    "        else:\n",
    "             d[s[i]]+=1\n",
    "if (s not in d ):\n",
    "    d[s]=1\n",
    "            \n",
    "print(d)"
   ]
  },
  {
   "cell_type": "code",
   "execution_count": null,
   "id": "e1199464-df44-40ba-a1eb-0f8398aca3b5",
   "metadata": {},
   "outputs": [],
   "source": []
  }
 ],
 "metadata": {
  "kernelspec": {
   "display_name": "Python 3 (ipykernel)",
   "language": "python",
   "name": "python3"
  },
  "language_info": {
   "codemirror_mode": {
    "name": "ipython",
    "version": 3
   },
   "file_extension": ".py",
   "mimetype": "text/x-python",
   "name": "python",
   "nbconvert_exporter": "python",
   "pygments_lexer": "ipython3",
   "version": "3.12.3"
  }
 },
 "nbformat": 4,
 "nbformat_minor": 5
}
