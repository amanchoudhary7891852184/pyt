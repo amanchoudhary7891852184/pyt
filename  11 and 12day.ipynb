{
 "cells": [
  {
   "cell_type": "code",
   "execution_count": 1,
   "id": "19e81f3f-5354-4b15-8607-86b15c0266e3",
   "metadata": {},
   "outputs": [
    {
     "data": {
      "text/plain": [
       "[10, 12, 12, 15, 20, 30, 45]"
      ]
     },
     "execution_count": 1,
     "metadata": {},
     "output_type": "execute_result"
    }
   ],
   "source": [
    "ls=[10,20,30,45,12,15,12]\n",
    "ls.sort()\n",
    "ls"
   ]
  },
  {
   "cell_type": "code",
   "execution_count": 44,
   "id": "1abd8ef1-c215-413a-a0ed-3b230898eb64",
   "metadata": {},
   "outputs": [
    {
     "name": "stdout",
     "output_type": "stream",
     "text": [
      "10 0 10\n",
      "20 1 30\n"
     ]
    }
   ],
   "source": [
    "ls=[10,20]\n",
    "s=0\n",
    "for i in range(0,len(ls)):\n",
    "    s=s+ls[i]\n",
    "    print(ls[i],i,s)\n"
   ]
  },
  {
   "cell_type": "markdown",
   "id": "13e9b9c7-ec8b-4a79-ae81-543e2a26350f",
   "metadata": {},
   "source": [
    "## 1 to 100n print and add into a list"
   ]
  },
  {
   "cell_type": "code",
   "execution_count": 20,
   "id": "2f106b25-4b4a-4e9f-a0a2-d78a167b3973",
   "metadata": {},
   "outputs": [
    {
     "name": "stdout",
     "output_type": "stream",
     "text": [
      "[1, 2, 3, 4, 5, 6, 7, 8, 9, 10, 11, 12, 13, 14, 15, 16, 17, 18, 19, 20, 21, 22, 23, 24, 25, 26, 27, 28, 29, 30, 31, 32, 33, 34, 35, 36, 37, 38, 39, 40, 41, 42, 43, 44, 45, 46, 47, 48, 49, 50, 51, 52, 53, 54, 55, 56, 57, 58, 59, 60, 61, 62, 63, 64, 65, 66, 67, 68, 69, 70, 71, 72, 73, 74, 75, 76, 77, 78, 79, 80, 81, 82, 83, 84, 85, 86, 87, 88, 89, 90, 91, 92, 93, 94, 95, 96, 97, 98, 99]\n"
     ]
    }
   ],
   "source": [
    "ls=[]\n",
    "for i in range(1,100):\n",
    "    ls.append(i)\n",
    "print(ls)"
   ]
  },
  {
   "cell_type": "markdown",
   "id": "f04c3550-5a88-4979-977a-bb39ef6aa217",
   "metadata": {},
   "source": [
    "## take a user input and check the value is matched or not "
   ]
  },
  {
   "cell_type": "code",
   "execution_count": 3,
   "id": "8987d875-bd9d-418e-90a7-c9425c551202",
   "metadata": {},
   "outputs": [
    {
     "name": "stdin",
     "output_type": "stream",
     "text": [
      "enter the user value 5\n"
     ]
    },
    {
     "name": "stdout",
     "output_type": "stream",
     "text": [
      "matched\n"
     ]
    }
   ],
   "source": [
    "ls=[20,10,12,2,11,5,1,2]\n",
    "x=int(input(\"enter the user value\"))\n",
    "a=0\n",
    "for i in ls:\n",
    "    if(x==i):\n",
    "        a=1\n",
    "        break\n",
    "if (a==1):\n",
    "    print(\"matched\")\n",
    "else:\n",
    "    print(\"unmatch\")"
   ]
  },
  {
   "cell_type": "markdown",
   "id": "f3c1899c-0482-4a81-adba-a922b008a92e",
   "metadata": {},
   "source": [
    "# counting the list for the given value "
   ]
  },
  {
   "cell_type": "code",
   "execution_count": 104,
   "id": "7757d6ad-c636-48a3-93ba-b0b6b1c2970b",
   "metadata": {},
   "outputs": [
    {
     "name": "stdout",
     "output_type": "stream",
     "text": [
      "count 2\n"
     ]
    }
   ],
   "source": [
    "ls=[10,20,30,40,50,60,70,80,20]\n",
    "x=20\n",
    "i=0\n",
    "count=0\n",
    "for i in range (0,len(ls)):\n",
    "    if (x==ls[i]):\n",
    "        count+=1\n",
    "print(\"count\",count)"
   ]
  },
  {
   "cell_type": "code",
   "execution_count": 113,
   "id": "0568fe8c-6c06-479b-b6bb-c364cdcd0435",
   "metadata": {},
   "outputs": [
    {
     "name": "stdout",
     "output_type": "stream",
     "text": [
      "2\n",
      "1\n"
     ]
    }
   ],
   "source": [
    "print(ls.count(20))\n",
    "print(ls.count(40))"
   ]
  },
  {
   "cell_type": "code",
   "execution_count": 1,
   "id": "9a78b5f5-2511-41ad-b678-9366373a8bc6",
   "metadata": {},
   "outputs": [
    {
     "name": "stdout",
     "output_type": "stream",
     "text": [
      "---------\n",
      "---------\n",
      "---------\n",
      "---------\n",
      "---------\n",
      "---------\n",
      "count=> 6\n"
     ]
    }
   ],
   "source": [
    "mylist = [10,20,10,30,10,10,40,40]\n",
    "count = 0\n",
    "for i in range (0,len(mylist)-2):\n",
    "    for j in range (i+1,len(mylist)):\n",
    "        if(mylist[i]==mylist[j]):\n",
    "            count+=1\n",
    "        \n",
    "            print(\"---------\")\n",
    "  \n",
    "print(\"count=>\",count)"
   ]
  },
  {
   "cell_type": "markdown",
   "id": "2bdf67ca-83c7-43bb-b74d-69aa39f65299",
   "metadata": {},
   "source": [
    "## tell the sum of targeat is 9"
   ]
  },
  {
   "cell_type": "code",
   "execution_count": 46,
   "id": "1aa7f79c-d2ff-4e82-a3aa-00748378d81d",
   "metadata": {},
   "outputs": [
    {
     "name": "stdout",
     "output_type": "stream",
     "text": [
      "2 7\n",
      "sum is  9\n"
     ]
    }
   ],
   "source": [
    "ls=[0,1,2,4,7,14,28]\n",
    "t=9\n",
    "for index in range(0,len(ls)):\n",
    "    for j in range(index+1,len(ls)):\n",
    "        if(ls[index]+ls[j]==t ):\n",
    "            print(ls[index],ls[j])\n",
    "            print(\"sum is \",ls[index]+ls[j])"
   ]
  },
  {
   "cell_type": "code",
   "execution_count": 31,
   "id": "ba915986-4a67-44a7-a24c-735c50ea6d0f",
   "metadata": {},
   "outputs": [
    {
     "name": "stdout",
     "output_type": "stream",
     "text": [
      "2 7\n"
     ]
    }
   ],
   "source": [
    "list=[-2,-1,0,1,2,4,7,14,18]\n",
    "s=0\n",
    "e=len(list)-1\n",
    "t=9\n",
    "while(s<e):\n",
    "    if(list[s]+list[e]==t):\n",
    "        print(list[s],list[e])\n",
    "        break\n",
    "    elif(list[s]+list[e]>t):\n",
    "        e-=1\n",
    "    else:\n",
    "        s+=1\n",
    "        \n"
   ]
  },
  {
   "cell_type": "markdown",
   "id": "06dfc33e-30a7-4078-9d35-f8e697b348b1",
   "metadata": {},
   "source": [
    "## string is concurrent or not"
   ]
  },
  {
   "cell_type": "code",
   "execution_count": 19,
   "id": "b0e6760c-cb88-4b1e-9ad5-17e47457f1ed",
   "metadata": {},
   "outputs": [
    {
     "name": "stdout",
     "output_type": "stream",
     "text": [
      "concurrent\n"
     ]
    }
   ],
   "source": [
    "str=\"aab\"\n",
    "s=0\n",
    "e=s+1\n",
    "while(s<e):\n",
    "    if (str[s]=='a' and str[e]=='a'):\n",
    "        print(\"concurrent\")\n",
    "        break\n",
    "    else:\n",
    "        print(\"not\")\n",
    "        break"
   ]
  },
  {
   "cell_type": "markdown",
   "id": "82a5d2cc-cd00-450f-b4a0-c0c05d129169",
   "metadata": {},
   "source": [
    "## leet code question of paranthesis"
   ]
  },
  {
   "cell_type": "code",
   "execution_count": 68,
   "id": "32c5634f-fd5a-47af-b749-cb48c6119601",
   "metadata": {},
   "outputs": [
    {
     "name": "stdout",
     "output_type": "stream",
     "text": [
      "va\n"
     ]
    }
   ],
   "source": [
    "open=[]\n",
    "x=0\n",
    "data=\"()\"\n",
    "\n",
    "for char in data:\n",
    "    if char==\"(\":\n",
    "       open.append(char)\n",
    "       x=1\n",
    "    elif(open):\n",
    "        if((char==\")\" and open.pop())):\n",
    "            x=1\n",
    "    else:\n",
    "            x=0\n",
    "if(x==0 or len(open)>0):\n",
    "    print('not')\n",
    "else:\n",
    "    print(\"va\")"
   ]
  },
  {
   "cell_type": "markdown",
   "id": "c1297362-f190-4c1e-9780-a4fae9712ccb",
   "metadata": {},
   "source": [
    "## valid paranthesis leetcode question \n"
   ]
  },
  {
   "cell_type": "code",
   "execution_count": 64,
   "id": "b18ac064-78f8-4340-8ead-7e9a3e307f41",
   "metadata": {},
   "outputs": [
    {
     "name": "stdout",
     "output_type": "stream",
     "text": [
      "invalid\n"
     ]
    }
   ],
   "source": [
    "open = []\n",
    "x = 0 \n",
    "data = \"{()\"\n",
    "for char in data  :\n",
    "    if char == \"{\":\n",
    "        open.append(char)\n",
    "    elif(open):\n",
    "        if(char==\"}\" and \"{\" == open.pop()):\n",
    "            x=1\n",
    "    else :\n",
    "        x=0\n",
    "if (x==0 or len(open) > 0 ):\n",
    "    print(\"invalid\")\n",
    "\n",
    "else :\n",
    "    print(\"valid paranthesis\")"
   ]
  },
  {
   "cell_type": "code",
   "execution_count": null,
   "id": "4250851e-c9e6-47c3-b025-88f917ef200c",
   "metadata": {},
   "outputs": [],
   "source": []
  }
 ],
 "metadata": {
  "kernelspec": {
   "display_name": "Python 3 (ipykernel)",
   "language": "python",
   "name": "python3"
  },
  "language_info": {
   "codemirror_mode": {
    "name": "ipython",
    "version": 3
   },
   "file_extension": ".py",
   "mimetype": "text/x-python",
   "name": "python",
   "nbconvert_exporter": "python",
   "pygments_lexer": "ipython3",
   "version": "3.12.3"
  }
 },
 "nbformat": 4,
 "nbformat_minor": 5
}
