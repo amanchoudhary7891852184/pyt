{
 "cells": [
  {
   "cell_type": "markdown",
   "id": "199ac7ff-5af6-4d44-b006-1c5ebefe2428",
   "metadata": {},
   "source": [
    "## call by value and call by reference \n"
   ]
  },
  {
   "cell_type": "code",
   "execution_count": 12,
   "id": "449bfa92-b937-4e5e-b5c2-3820e8b3b6b7",
   "metadata": {},
   "outputs": [
    {
     "name": "stdout",
     "output_type": "stream",
     "text": [
      "140735463185112\n"
     ]
    }
   ],
   "source": [
    "x=10\n",
    "print(id(x))"
   ]
  },
  {
   "cell_type": "code",
   "execution_count": 14,
   "id": "c954e877-2164-4e81-978c-c7e1e1728634",
   "metadata": {},
   "outputs": [
    {
     "name": "stdout",
     "output_type": "stream",
     "text": [
      "140735463185112\n"
     ]
    }
   ],
   "source": [
    "a=x\n",
    "print(id(a))"
   ]
  },
  {
   "cell_type": "code",
   "execution_count": 22,
   "id": "2f72d5ca-f02f-4a45-9910-276c51148b21",
   "metadata": {},
   "outputs": [
    {
     "name": "stdout",
     "output_type": "stream",
     "text": [
      "bef 140735463186392 140735463186392\n",
      "after 140735463186392 140735463185752\n"
     ]
    }
   ],
   "source": [
    "x=50\n",
    "a=x\n",
    "print('bef',id(x),id(a))\n",
    "a=30\n",
    "print('after',id(x),id(a))"
   ]
  },
  {
   "cell_type": "code",
   "execution_count": 26,
   "id": "58aba016-102d-450b-ab23-ced9471e3db1",
   "metadata": {},
   "outputs": [
    {
     "name": "stdout",
     "output_type": "stream",
     "text": [
      "140735463185752 140735463185752\n"
     ]
    }
   ],
   "source": [
    "x='a'\n",
    "x=a\n",
    "print(id(a),id(a))"
   ]
  },
  {
   "cell_type": "markdown",
   "id": "45959445-5215-49b0-9748-3ab4c95b4115",
   "metadata": {},
   "source": []
  },
  {
   "cell_type": "markdown",
   "id": "9e0cad33-c60a-4ab2-9f23-e566b940514b",
   "metadata": {},
   "source": [
    "## loop"
   ]
  },
  {
   "cell_type": "code",
   "execution_count": 12,
   "id": "9b80f5a4-4ee2-4103-9f2d-b71454363c0e",
   "metadata": {},
   "outputs": [
    {
     "name": "stdin",
     "output_type": "stream",
     "text": [
      "enter your name kjns\n"
     ]
    },
    {
     "name": "stdout",
     "output_type": "stream",
     "text": [
      "kjns 9\n",
      "kjns 8\n",
      "kjns 7\n",
      "kjns 6\n",
      "kjns 5\n",
      "kjns 4\n"
     ]
    }
   ],
   "source": [
    "name=input(\"enter your name\")\n",
    "for i in range(9,3,-1):\n",
    "     \n",
    "        print(name,i)"
   ]
  },
  {
   "cell_type": "code",
   "execution_count": 16,
   "id": "71849b5a-a5e2-4e11-8eda-71feee3555c4",
   "metadata": {
    "scrolled": true
   },
   "outputs": [
    {
     "name": "stdout",
     "output_type": "stream",
     "text": [
      "2\n",
      "3\n",
      "4\n",
      "5\n",
      "6\n",
      "7\n",
      "8\n",
      "9\n",
      "10\n",
      "11\n",
      "12\n",
      "13\n",
      "14\n",
      "15\n",
      "16\n",
      "17\n",
      "18\n",
      "19\n",
      "20\n"
     ]
    }
   ],
   "source": [
    "for i in range(2,20+1):\n",
    "    print(i)"
   ]
  },
  {
   "cell_type": "code",
   "execution_count": 85,
   "id": "9c6a4b3d-beef-4533-86e5-5ce55c48dd87",
   "metadata": {
    "scrolled": true
   },
   "outputs": [
    {
     "name": "stdout",
     "output_type": "stream",
     "text": [
      "97\n",
      "96\n",
      "95\n",
      "94\n",
      "93\n",
      "92\n",
      "91\n",
      "90\n",
      "89\n",
      "88\n",
      "87\n",
      "86\n",
      "85\n",
      "84\n",
      "83\n",
      "82\n",
      "81\n",
      "80\n",
      "79\n",
      "78\n",
      "77\n",
      "76\n",
      "75\n",
      "74\n",
      "73\n",
      "72\n",
      "71\n",
      "70\n",
      "69\n",
      "68\n",
      "67\n",
      "66\n",
      "65\n",
      "64\n",
      "63\n",
      "62\n",
      "61\n",
      "60\n",
      "59\n",
      "58\n",
      "57\n",
      "56\n"
     ]
    }
   ],
   "source": [
    "for i in range(97,55,-1):\n",
    "    print(i)"
   ]
  },
  {
   "cell_type": "code",
   "execution_count": 25,
   "id": "4c8eecae-8983-4006-84e6-e70d260a61e2",
   "metadata": {},
   "outputs": [
    {
     "name": "stdout",
     "output_type": "stream",
     "text": [
      "2\n",
      "5\n",
      "9\n",
      "14\n",
      "20\n",
      "27\n",
      "35\n"
     ]
    }
   ],
   "source": [
    "s=0\n",
    "for i in range(2,9,1):\n",
    "    s=s+i\n",
    "    print(s)\n",
    "    "
   ]
  },
  {
   "cell_type": "code",
   "execution_count": 117,
   "id": "5b9a7fba-64f9-446c-9154-482176e9baeb",
   "metadata": {},
   "outputs": [
    {
     "name": "stdout",
     "output_type": "stream",
     "text": [
      "2475\n"
     ]
    }
   ],
   "source": [
    "s=0\n",
    "for i in range(97,67,-1):\n",
    "    s=s+i\n",
    "print(s)"
   ]
  },
  {
   "cell_type": "code",
   "execution_count": 132,
   "id": "057aacbd-2e39-4912-ba2a-dfa460894b36",
   "metadata": {
    "scrolled": true
   },
   "outputs": [
    {
     "name": "stdout",
     "output_type": "stream",
     "text": [
      "1 count of number\n",
      "2 count of number\n",
      "3 count of number\n",
      "4 count of number\n",
      "5 count of number\n",
      "6 count of number\n",
      "7 count of number\n",
      "8 count of number\n",
      "9 count of number\n",
      "10 count of number\n",
      "11 count of number\n",
      "12 count of number\n",
      "13 count of number\n",
      "14 count of number\n",
      "15 count of number\n",
      "16 count of number\n",
      "17 count of number\n",
      "18 count of number\n",
      "19 count of number\n",
      "20 count of number\n",
      "21 count of number\n",
      "22 count of number\n",
      "23 count of number\n",
      "24 count of number\n",
      "25 count of number\n",
      "26 count of number\n",
      "27 count of number\n",
      "28 count of number\n",
      "29 count of number\n",
      "30 count of number\n"
     ]
    }
   ],
   "source": [
    "s=0\n",
    "for i in range(7,37):\n",
    "    s=s+1\n",
    "    print(s,'count of number')"
   ]
  },
  {
   "cell_type": "code",
   "execution_count": 151,
   "id": "2efbfe7f-38c1-4e90-a9d5-f14325992e80",
   "metadata": {},
   "outputs": [
    {
     "name": "stdout",
     "output_type": "stream",
     "text": [
      "672\n"
     ]
    }
   ],
   "source": [
    "s=0\n",
    "for i in range(11,53):\n",
    "    if i%2==0:\n",
    "        s=s+i\n",
    "print(s)"
   ]
  },
  {
   "cell_type": "code",
   "execution_count": 177,
   "id": "b6c1c2a9-6fc7-4237-b5f5-ee6a0241a938",
   "metadata": {},
   "outputs": [
    {
     "name": "stdin",
     "output_type": "stream",
     "text": [
      "enter your string mana\n"
     ]
    },
    {
     "name": "stdout",
     "output_type": "stream",
     "text": [
      "4\n",
      "0 m\n",
      "1 a\n",
      "2 n\n",
      "3 a\n"
     ]
    }
   ],
   "source": [
    "data=input(\"enter your string\")\n",
    "print(len(data))\n",
    "for i in range(0,len(data)):\n",
    "    print(i,data[i])"
   ]
  },
  {
   "cell_type": "code",
   "execution_count": null,
   "id": "c90b079a-d98f-44c8-beb8-4f4f3de90ce9",
   "metadata": {},
   "outputs": [],
   "source": [
    "S"
   ]
  },
  {
   "cell_type": "code",
   "execution_count": null,
   "id": "8e29f194-8d69-476a-9aee-c5278a57d2d0",
   "metadata": {},
   "outputs": [],
   "source": [
    " "
   ]
  }
 ],
 "metadata": {
  "kernelspec": {
   "display_name": "Python 3 (ipykernel)",
   "language": "python",
   "name": "python3"
  },
  "language_info": {
   "codemirror_mode": {
    "name": "ipython",
    "version": 3
   },
   "file_extension": ".py",
   "mimetype": "text/x-python",
   "name": "python",
   "nbconvert_exporter": "python",
   "pygments_lexer": "ipython3",
   "version": "3.12.3"
  }
 },
 "nbformat": 4,
 "nbformat_minor": 5
}
