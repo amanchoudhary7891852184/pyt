{
 "cells": [
  {
   "cell_type": "code",
   "execution_count": 13,
   "id": "3b40e995-a4fc-422d-bf92-9443f61eaa4a",
   "metadata": {},
   "outputs": [
    {
     "name": "stdout",
     "output_type": "stream",
     "text": [
      "{10: 1, 20: 1, 30: 1, 40: 1, 50: 1}\n"
     ]
    }
   ],
   "source": [
    "ls=[10,20,30,40,50]\n",
    "d={}\n",
    "for i in ls:\n",
    "    d[i]=1\n",
    "print(d)"
   ]
  },
  {
   "cell_type": "code",
   "execution_count": 37,
   "id": "71006225-e6a5-4194-8280-abe29e1e7075",
   "metadata": {},
   "outputs": [
    {
     "name": "stdout",
     "output_type": "stream",
     "text": [
      "{10: 3, 20: 1, 30: 1, 40: 1, 50: 1}\n"
     ]
    }
   ],
   "source": [
    "ls=[10,20,30,40,50,10,10]\n",
    "d={}\n",
    "for i in ls:\n",
    "    if  i in d:\n",
    "        d[i]=d[i]+1\n",
    "    else:\n",
    "        d[i]=1\n",
    "print(d)"
   ]
  },
  {
   "cell_type": "code",
   "execution_count": 59,
   "id": "801bfce6-d13d-4d5a-a752-d34f8b43972e",
   "metadata": {},
   "outputs": [
    {
     "name": "stdout",
     "output_type": "stream",
     "text": [
      "{10: 3, 20: 1, 30: 1, 40: 1, 50: 1}\n"
     ]
    }
   ],
   "source": [
    "ls=[10,20,30,40,50,10,10]\n",
    "d={}\n",
    "for i in ls:\n",
    "    if  i in d:\n",
    "        d[i]=d[i]+1\n",
    "    else:\n",
    "        d[i]=1\n",
    "print(d)"
   ]
  },
  {
   "cell_type": "code",
   "execution_count": 81,
   "id": "9075ff04-1c21-424d-aa88-b6264808b15f",
   "metadata": {},
   "outputs": [
    {
     "name": "stdout",
     "output_type": "stream",
     "text": [
      "198\n"
     ]
    }
   ],
   "source": [
    "d={\"A\":65,\"B\":66,\"C\":67}\n",
    "s=\"CAB\"\n",
    "sum=0\n",
    "for i in d:\n",
    "    if i in s:\n",
    "        sum+=d[i]\n",
    "print(sum)"
   ]
  },
  {
   "cell_type": "code",
   "execution_count": 85,
   "id": "b2d929ab-8f18-4d6a-bf19-c350db0b52c1",
   "metadata": {},
   "outputs": [
    {
     "name": "stdout",
     "output_type": "stream",
     "text": [
      "II\n",
      "II\n",
      "II\n",
      "II\n"
     ]
    }
   ],
   "source": [
    "d={1:\"I\" , 5:\"V\"}\n",
    "\n",
    "for i in range(0,4):\n",
    "    if (i<4):\n",
    "        d[i]=d[1]=\"I\"+\"I\"\n",
    "        print(d[i])"
   ]
  },
  {
   "cell_type": "code",
   "execution_count": 97,
   "id": "109702e7-818a-4729-ab4d-901e5e10f4a4",
   "metadata": {},
   "outputs": [
    {
     "name": "stdin",
     "output_type": "stream",
     "text": [
      "Enter a number from 1 to 5:  1\n"
     ]
    },
    {
     "name": "stdout",
     "output_type": "stream",
     "text": [
      "Roman numeral: I\n"
     ]
    }
   ],
   "source": [
    "d = {1: \"I\", 5: \"V\"}\n",
    "for i in range(2, 5):  \n",
    "    d[i] = d[1] * i if i < 4 else d[1] * (5 - i) + d[5]  \n",
    "\n",
    "num = int(input(\"Enter a number from 1 to 5: \"))\n",
    "\n",
    "if 1 <= num <= 5:\n",
    "    print(f\"Roman numeral: {d[num]}\")\n",
    "else:\n",
    "    print(\"Number out of range!\")\n"
   ]
  },
  {
   "cell_type": "code",
   "execution_count": null,
   "id": "7021111c-1ead-4200-8ceb-62a841482083",
   "metadata": {},
   "outputs": [],
   "source": []
  }
 ],
 "metadata": {
  "kernelspec": {
   "display_name": "Python 3 (ipykernel)",
   "language": "python",
   "name": "python3"
  },
  "language_info": {
   "codemirror_mode": {
    "name": "ipython",
    "version": 3
   },
   "file_extension": ".py",
   "mimetype": "text/x-python",
   "name": "python",
   "nbconvert_exporter": "python",
   "pygments_lexer": "ipython3",
   "version": "3.12.3"
  }
 },
 "nbformat": 4,
 "nbformat_minor": 5
}
