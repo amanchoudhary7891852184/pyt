{
 "cells": [
  {
   "cell_type": "markdown",
   "id": "0fc28873-e145-477b-bf3a-cc11995d705b",
   "metadata": {},
   "source": [
    "## nested loop\n"
   ]
  },
  {
   "cell_type": "code",
   "execution_count": 21,
   "id": "e74b5d60-f7d1-41a3-8cab-de0713cf942a",
   "metadata": {
    "scrolled": true
   },
   "outputs": [
    {
     "name": "stdout",
     "output_type": "stream",
     "text": [
      "student 10\n",
      "1 sub\n",
      "2 sub\n",
      "3 sub\n",
      "4 sub\n",
      "5 sub\n",
      "student 11\n",
      "1 sub\n",
      "2 sub\n",
      "3 sub\n",
      "4 sub\n",
      "5 sub\n",
      "student 12\n",
      "1 sub\n",
      "2 sub\n",
      "3 sub\n",
      "4 sub\n",
      "5 sub\n",
      "student 13\n",
      "1 sub\n",
      "2 sub\n",
      "3 sub\n",
      "4 sub\n",
      "5 sub\n",
      "student 14\n",
      "1 sub\n",
      "2 sub\n",
      "3 sub\n",
      "4 sub\n",
      "5 sub\n",
      "student 15\n",
      "1 sub\n",
      "2 sub\n",
      "3 sub\n",
      "4 sub\n",
      "5 sub\n"
     ]
    }
   ],
   "source": [
    "for i in range(10,16,1):\n",
    "    print(\"student\",i)\n",
    "    for marks in range(1,6):\n",
    "        print(marks,\"sub\")"
   ]
  },
  {
   "cell_type": "code",
   "execution_count": 23,
   "id": "83fd66c4-f5af-418c-bfce-49105233d965",
   "metadata": {
    "scrolled": true
   },
   "outputs": [
    {
     "name": "stdout",
     "output_type": "stream",
     "text": [
      "student 16\n",
      "1 sub\n",
      "2 sub\n",
      "3 sub\n",
      "4 sub\n",
      "5 sub\n",
      "student 15\n",
      "1 sub\n",
      "2 sub\n",
      "3 sub\n",
      "4 sub\n",
      "5 sub\n",
      "student 14\n",
      "1 sub\n",
      "2 sub\n",
      "3 sub\n",
      "4 sub\n",
      "5 sub\n",
      "student 13\n",
      "1 sub\n",
      "2 sub\n",
      "3 sub\n",
      "4 sub\n",
      "5 sub\n",
      "student 12\n",
      "1 sub\n",
      "2 sub\n",
      "3 sub\n",
      "4 sub\n",
      "5 sub\n",
      "student 11\n",
      "1 sub\n",
      "2 sub\n",
      "3 sub\n",
      "4 sub\n",
      "5 sub\n"
     ]
    }
   ],
   "source": [
    "for i in range(16,10,-1):\n",
    "    print(\"student\",i)\n",
    "    for marks in range(1,6):\n",
    "        print(marks,\"sub\")"
   ]
  },
  {
   "cell_type": "code",
   "execution_count": 35,
   "id": "280471dd-8fb9-4920-92d1-97cc0d949405",
   "metadata": {
    "scrolled": true
   },
   "outputs": [
    {
     "name": "stdout",
     "output_type": "stream",
     "text": [
      "student 10\n",
      "5 sub\n",
      "4 sub\n",
      "3 sub\n",
      "2 sub\n",
      "1 sub\n",
      "student 11\n",
      "5 sub\n",
      "4 sub\n",
      "3 sub\n",
      "2 sub\n",
      "1 sub\n",
      "student 12\n",
      "5 sub\n",
      "4 sub\n",
      "3 sub\n",
      "2 sub\n",
      "1 sub\n",
      "student 13\n",
      "5 sub\n",
      "4 sub\n",
      "3 sub\n",
      "2 sub\n",
      "1 sub\n",
      "student 14\n",
      "5 sub\n",
      "4 sub\n",
      "3 sub\n",
      "2 sub\n",
      "1 sub\n",
      "student 15\n",
      "5 sub\n",
      "4 sub\n",
      "3 sub\n",
      "2 sub\n",
      "1 sub\n"
     ]
    }
   ],
   "source": [
    "for i in range(10,16,1):\n",
    "    print(\"student\",i)\n",
    "    for marks in range(5,0,-1):\n",
    "        print(marks,\"sub\")\n"
   ]
  },
  {
   "cell_type": "code",
   "execution_count": 57,
   "id": "ebb5ee1e-7ba8-45ad-950c-9cf0072edd6e",
   "metadata": {},
   "outputs": [
    {
     "name": "stdout",
     "output_type": "stream",
     "text": [
      "student 1\n",
      "1 sub\n",
      "student 2\n",
      "1 sub\n",
      "2 sub\n",
      "student 3\n",
      "1 sub\n",
      "2 sub\n",
      "3 sub\n",
      "student 4\n",
      "1 sub\n",
      "2 sub\n",
      "3 sub\n",
      "4 sub\n",
      "student 5\n",
      "1 sub\n",
      "2 sub\n",
      "3 sub\n",
      "4 sub\n",
      "5 sub\n"
     ]
    }
   ],
   "source": [
    "for i in range(1,6):\n",
    "    print(\"student\",i)\n",
    "    for marks in range(1,i+1):\n",
    "        print(marks,\"sub\")"
   ]
  },
  {
   "cell_type": "code",
   "execution_count": 131,
   "id": "71617385-a6c1-4bd3-b709-599abc875a39",
   "metadata": {},
   "outputs": [
    {
     "name": "stdout",
     "output_type": "stream",
     "text": [
      "student 4\n",
      "sub 4\n",
      "student 3\n",
      "sub 3\n",
      "sub 4\n",
      "student 2\n",
      "sub 2\n",
      "sub 3\n",
      "sub 4\n",
      "student 1\n",
      "sub 1\n",
      "sub 2\n",
      "sub 3\n",
      "sub 4\n"
     ]
    }
   ],
   "source": [
    "for i in range(4,0,-1):\n",
    "    print(\"student\",i)\n",
    "    for marks in range(i,5):\n",
    "        print(\"sub\",marks)\n",
    "        "
   ]
  },
  {
   "cell_type": "code",
   "execution_count": 142,
   "id": "6da32a06-1da0-48ca-871c-0e7244299121",
   "metadata": {
    "scrolled": true
   },
   "outputs": [
    {
     "name": "stdout",
     "output_type": "stream",
     "text": [
      "student 1\n",
      "1 sub\n",
      "--tea---\n",
      "student 2\n",
      "1 sub\n",
      "2 sub\n",
      "--tea---\n",
      "student 3\n",
      "1 sub\n",
      "2 sub\n",
      "3 sub\n",
      "--tea---\n",
      "student 4\n",
      "1 sub\n",
      "2 sub\n",
      "3 sub\n",
      "4 sub\n",
      "--tea---\n",
      "student 5\n",
      "1 sub\n",
      "2 sub\n",
      "3 sub\n",
      "4 sub\n",
      "5 sub\n",
      "--tea---\n"
     ]
    }
   ],
   "source": [
    "for i in range(1,6):\n",
    "    print(\"student\",i)\n",
    "    for marks in range(1,i+1):\n",
    "        print(marks,\"sub\")\n",
    "    print(\"--tea---\")"
   ]
  },
  {
   "cell_type": "code",
   "execution_count": 174,
   "id": "5070ac9d-385f-43be-96ba-97bd1226272b",
   "metadata": {
    "scrolled": true
   },
   "outputs": [
    {
     "name": "stdout",
     "output_type": "stream",
     "text": [
      "2*1=2 \n",
      "2*2=4 \n",
      "2*3=6 \n",
      "2*4=8 \n",
      "2*5=10 \n",
      "2*6=12 \n",
      "2*7=14 \n",
      "2*8=16 \n",
      "2*9=18 \n",
      "2*10=20 \n",
      "3*1=3 \n",
      "3*2=6 \n",
      "3*3=9 \n",
      "3*4=12 \n",
      "3*5=15 \n",
      "3*6=18 \n",
      "3*7=21 \n",
      "3*8=24 \n",
      "3*9=27 \n",
      "3*10=30 \n",
      "4*1=4 \n",
      "4*2=8 \n",
      "4*3=12 \n",
      "4*4=16 \n",
      "4*5=20 \n",
      "4*6=24 \n",
      "4*7=28 \n",
      "4*8=32 \n",
      "4*9=36 \n",
      "4*10=40 \n",
      "5*1=5 \n",
      "5*2=10 \n",
      "5*3=15 \n",
      "5*4=20 \n",
      "5*5=25 \n",
      "5*6=30 \n",
      "5*7=35 \n",
      "5*8=40 \n",
      "5*9=45 \n",
      "5*10=50 \n",
      "6*1=6 \n",
      "6*2=12 \n",
      "6*3=18 \n",
      "6*4=24 \n",
      "6*5=30 \n",
      "6*6=36 \n",
      "6*7=42 \n",
      "6*8=48 \n",
      "6*9=54 \n",
      "6*10=60 \n",
      "7*1=7 \n",
      "7*2=14 \n",
      "7*3=21 \n",
      "7*4=28 \n",
      "7*5=35 \n",
      "7*6=42 \n",
      "7*7=49 \n",
      "7*8=56 \n",
      "7*9=63 \n",
      "7*10=70 \n"
     ]
    }
   ],
   "source": [
    "i=1\n",
    "for i in range(2,8,1):\n",
    "    for j in range(1,11,1):\n",
    "        print(f\"{i}*{j}={i*j} \")"
   ]
  },
  {
   "cell_type": "code",
   "execution_count": 181,
   "id": "f5fb56b6-d39d-4907-85df-62395d3a95c1",
   "metadata": {
    "scrolled": true
   },
   "outputs": [
    {
     "name": "stdout",
     "output_type": "stream",
     "text": [
      "8*10=80 --tea\n",
      "8*9=72 --tea\n",
      "8*8=64 --tea\n",
      "8*7=56 --tea\n",
      "8*6=48 --tea\n",
      "8*5=40 --tea\n",
      "8*4=32 --tea\n",
      "8*3=24 --tea\n",
      "8*2=16 --tea\n",
      "8*1=8 --tea\n",
      "7*10=70 --tea\n",
      "7*9=63 --tea\n",
      "7*8=56 --tea\n",
      "7*7=49 --tea\n",
      "7*6=42 --tea\n",
      "7*5=35 --tea\n",
      "7*4=28 --tea\n",
      "7*3=21 --tea\n",
      "7*2=14 --tea\n",
      "7*1=7 --tea\n",
      "6*10=60 --tea\n",
      "6*9=54 --tea\n",
      "6*8=48 --tea\n",
      "6*7=42 --tea\n",
      "6*6=36 --tea\n",
      "6*5=30 --tea\n",
      "6*4=24 --tea\n",
      "6*3=18 --tea\n",
      "6*2=12 --tea\n",
      "6*1=6 --tea\n",
      "5*10=50 --tea\n",
      "5*9=45 --tea\n",
      "5*8=40 --tea\n",
      "5*7=35 --tea\n",
      "5*6=30 --tea\n",
      "5*5=25 --tea\n",
      "5*4=20 --tea\n",
      "5*3=15 --tea\n",
      "5*2=10 --tea\n",
      "5*1=5 --tea\n",
      "4*10=40 --tea\n",
      "4*9=36 --tea\n",
      "4*8=32 --tea\n",
      "4*7=28 --tea\n",
      "4*6=24 --tea\n",
      "4*5=20 --tea\n",
      "4*4=16 --tea\n",
      "4*3=12 --tea\n",
      "4*2=8 --tea\n",
      "4*1=4 --tea\n",
      "3*10=30 --tea\n",
      "3*9=27 --tea\n",
      "3*8=24 --tea\n",
      "3*7=21 --tea\n",
      "3*6=18 --tea\n",
      "3*5=15 --tea\n",
      "3*4=12 --tea\n",
      "3*3=9 --tea\n",
      "3*2=6 --tea\n",
      "3*1=3 --tea\n"
     ]
    }
   ],
   "source": [
    "for i in range(8,2,-1):\n",
    "    for j in range(10,0,-1):\n",
    "        print(f\"{i}*{j}={i*j} \",end=\"\")\n",
    "        print(\"--tea\")"
   ]
  },
  {
   "cell_type": "code",
   "execution_count": 215,
   "id": "fc393431-ffa0-465e-887c-f3050ca7b41e",
   "metadata": {},
   "outputs": [
    {
     "name": "stdout",
     "output_type": "stream",
     "text": [
      "* * * * *  \n",
      "* * * * *  \n",
      "* * * * *  \n",
      "* * * * *  \n",
      "* * * * *  \n"
     ]
    }
   ],
   "source": [
    "for i in range(1,6):\n",
    "    for j in range(1,6):\n",
    "        print(\"*\",end=\" \")\n",
    "    print(\" \")"
   ]
  },
  {
   "cell_type": "code",
   "execution_count": 213,
   "id": "e056f164-466d-4e39-92e7-25843acefe45",
   "metadata": {},
   "outputs": [
    {
     "name": "stdout",
     "output_type": "stream",
     "text": [
      "* * * *  \n",
      "* * * *  \n",
      "* * * *  \n",
      "* * * *  \n"
     ]
    }
   ],
   "source": [
    "for i in range(1,5):\n",
    "    for j in range(1,5):\n",
    "        print(\"*\",end=\" \")\n",
    "    print(\" \")"
   ]
  },
  {
   "cell_type": "code",
   "execution_count": 217,
   "id": "37e6aa07-befd-4d52-a8ea-062801e51800",
   "metadata": {},
   "outputs": [
    {
     "name": "stdout",
     "output_type": "stream",
     "text": [
      "1 1 1 1  \n",
      "2 2 2 2  \n",
      "3 3 3 3  \n",
      "4 4 4 4  \n"
     ]
    }
   ],
   "source": [
    "for i in range(1,5):\n",
    "    for j in range(1,5):\n",
    "        print(i,end=\" \")\n",
    "    print(\" \")"
   ]
  },
  {
   "cell_type": "code",
   "execution_count": 221,
   "id": "dc616deb-000a-47da-ba89-fbf0c8c00425",
   "metadata": {},
   "outputs": [
    {
     "name": "stdout",
     "output_type": "stream",
     "text": [
      "2 2 2 2  \n",
      "3 3 3 3  \n",
      "4 4 4 4  \n"
     ]
    }
   ],
   "source": [
    "for i in range(2,5):\n",
    "    for j in range(1,5):\n",
    "        print(i,end=\" \")\n",
    "    print(\" \")"
   ]
  },
  {
   "cell_type": "code",
   "execution_count": 223,
   "id": "464973c4-d0a1-4f37-9370-56978fcc336b",
   "metadata": {},
   "outputs": [
    {
     "name": "stdout",
     "output_type": "stream",
     "text": [
      "1 2 3 4  \n",
      "1 2 3 4  \n",
      "1 2 3 4  \n",
      "1 2 3 4  \n"
     ]
    }
   ],
   "source": [
    "for i in range(1,5):\n",
    "    for j in range(1,5):\n",
    "        print(j,end=\" \")\n",
    "    print(\" \")"
   ]
  },
  {
   "cell_type": "code",
   "execution_count": 229,
   "id": "35a315c1-a4c2-4bf6-b9c7-f847ed5079a1",
   "metadata": {},
   "outputs": [
    {
     "name": "stdout",
     "output_type": "stream",
     "text": [
      "4 3 2 1  \n",
      "4 3 2 1  \n",
      "4 3 2 1  \n",
      "4 3 2 1  \n"
     ]
    }
   ],
   "source": [
    "for i in range(1,5):\n",
    "    for j in range(4,0,-1):\n",
    "        print(j,end=\" \")\n",
    "    print(\" \")"
   ]
  },
  {
   "cell_type": "code",
   "execution_count": 235,
   "id": "5c2fe682-8135-45e5-9da2-192353b40e89",
   "metadata": {},
   "outputs": [
    {
     "name": "stdout",
     "output_type": "stream",
     "text": [
      "4 4 4 4  \n",
      "3 3 3 3  \n"
     ]
    }
   ],
   "source": [
    "for i in range(4,2,-1):\n",
    "    for j in range(1,5):\n",
    "        print(i,end=\" \")\n",
    "    print(\" \")"
   ]
  },
  {
   "cell_type": "code",
   "execution_count": 257,
   "id": "11567740-46da-47ab-bc44-f362de8ab2ce",
   "metadata": {},
   "outputs": [
    {
     "name": "stdout",
     "output_type": "stream",
     "text": [
      "1 2 3 4  \n",
      "5 6 7 8  \n",
      "9 10 11 12  \n"
     ]
    }
   ],
   "source": [
    "num=0\n",
    "for i in range(1,4):\n",
    "    for j in range(1,5):\n",
    "        num+=1\n",
    "        print(num,end=\" \")\n",
    "    print(\" \")"
   ]
  },
  {
   "cell_type": "code",
   "execution_count": 261,
   "id": "96f3a192-c47e-429f-9fd4-111b47876f8b",
   "metadata": {},
   "outputs": [
    {
     "name": "stdout",
     "output_type": "stream",
     "text": [
      "1 1 1 1  \n",
      "1 1 1 1  \n",
      "1 1 1 1  \n"
     ]
    }
   ],
   "source": [
    "num=1\n",
    "for i in range(1,4):\n",
    "    for j in range(1,5):\n",
    "        \n",
    "        print(num,end=\" \")\n",
    "    print(\" \")"
   ]
  },
  {
   "cell_type": "code",
   "execution_count": 299,
   "id": "3028c63f-202a-4620-9691-e0bceceb4eec",
   "metadata": {},
   "outputs": [
    {
     "name": "stdout",
     "output_type": "stream",
     "text": [
      "*  \n",
      "* *  \n",
      "* * *  \n",
      "* * * *  \n",
      "* * * * *  \n"
     ]
    }
   ],
   "source": [
    "\n",
    "for i in range(1,6):\n",
    "    for j in range(1,i+1):\n",
    "        print(\"*\",end=\" \")\n",
    "    print(\" \")"
   ]
  },
  {
   "cell_type": "code",
   "execution_count": 283,
   "id": "a49cd681-9fe2-45d5-882b-ea151a805811",
   "metadata": {},
   "outputs": [
    {
     "name": "stdout",
     "output_type": "stream",
     "text": [
      "1  \n",
      "2 2  \n",
      "3 3 3  \n",
      "4 4 4 4  \n",
      "5 5 5 5 5  \n"
     ]
    }
   ],
   "source": [
    "num=0\n",
    "for i in range(1,6):\n",
    "    for j in range(1,i+1):\n",
    "        print(i,end=\" \")\n",
    "    print(\" \")"
   ]
  },
  {
   "cell_type": "code",
   "execution_count": 305,
   "id": "0d737aec-3641-438f-8f5f-71d09bced728",
   "metadata": {},
   "outputs": [
    {
     "name": "stdout",
     "output_type": "stream",
     "text": [
      "10  \n",
      "11 12  \n",
      "13 14 15  \n"
     ]
    }
   ],
   "source": [
    "num=10\n",
    "for i in range(1,4):\n",
    "    for j in range(1,i+1):\n",
    "         \n",
    "        print(num,end=\" \")\n",
    "        num+=1\n",
    "    print(\" \")"
   ]
  },
  {
   "cell_type": "code",
   "execution_count": 311,
   "id": "156243ad-6b33-42d4-9ebe-4265d6ee10d0",
   "metadata": {},
   "outputs": [
    {
     "name": "stdout",
     "output_type": "stream",
     "text": [
      "15  \n",
      "14 13  \n",
      "12 11 10  \n"
     ]
    }
   ],
   "source": [
    "num=15\n",
    "for i in range(1,4):\n",
    "    for j in range(1,i+1):\n",
    "         \n",
    "        print(num,end=\" \")\n",
    "        num-=1\n",
    "    print(\" \")"
   ]
  },
  {
   "cell_type": "code",
   "execution_count": 339,
   "id": "1318ad92-ea62-44b2-8c26-c0cbb331a76d",
   "metadata": {},
   "outputs": [
    {
     "name": "stdout",
     "output_type": "stream",
     "text": [
      "A  \n",
      "A B  \n",
      "A B C  \n"
     ]
    }
   ],
   "source": [
    "for i in range(1,4):\n",
    "    num=65\n",
    "    for j in range(1,i+1):\n",
    "         \n",
    "        print(chr(num),end=\" \")\n",
    "        num+=1\n",
    "    print(\" \")"
   ]
  },
  {
   "cell_type": "code",
   "execution_count": 333,
   "id": "db268253-5a73-467e-a420-49bb33e5d302",
   "metadata": {},
   "outputs": [
    {
     "name": "stdout",
     "output_type": "stream",
     "text": [
      "65  \n",
      "65 66  \n",
      "65 66 67  \n"
     ]
    }
   ],
   "source": [
    "for i in range(1,4):\n",
    "    num=65\n",
    "    for j in range(1,i+1):\n",
    "         \n",
    "        print(num,end=\" \")\n",
    "        num+=1\n",
    "    print(\" \")"
   ]
  },
  {
   "cell_type": "code",
   "execution_count": 341,
   "id": "d1601afb-29a9-423c-a61d-83a7ac5dd502",
   "metadata": {},
   "outputs": [
    {
     "name": "stdout",
     "output_type": "stream",
     "text": [
      "a  \n",
      "a b  \n",
      "a b c  \n"
     ]
    }
   ],
   "source": [
    "for i in range(1,4):\n",
    "    num=65\n",
    "    for j in range(97,97+i):\n",
    "         \n",
    "        print(chr(j),end=\" \")\n",
    "        num+=1\n",
    "    print(\" \")"
   ]
  },
  {
   "cell_type": "code",
   "execution_count": null,
   "id": "634b924a-5e8a-4fb6-b69a-60c5dbba04e7",
   "metadata": {},
   "outputs": [],
   "source": []
  }
 ],
 "metadata": {
  "kernelspec": {
   "display_name": "Python 3 (ipykernel)",
   "language": "python",
   "name": "python3"
  },
  "language_info": {
   "codemirror_mode": {
    "name": "ipython",
    "version": 3
   },
   "file_extension": ".py",
   "mimetype": "text/x-python",
   "name": "python",
   "nbconvert_exporter": "python",
   "pygments_lexer": "ipython3",
   "version": "3.12.3"
  }
 },
 "nbformat": 4,
 "nbformat_minor": 5
}
