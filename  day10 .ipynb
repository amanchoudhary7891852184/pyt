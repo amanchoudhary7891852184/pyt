{
 "cells": [
  {
   "cell_type": "code",
   "execution_count": 9,
   "id": "436d7df1-dba7-41e4-8d73-25b445378598",
   "metadata": {},
   "outputs": [
    {
     "name": "stdout",
     "output_type": "stream",
     "text": [
      "0 n 4 t\n"
     ]
    }
   ],
   "source": [
    "data=\"namat\"\n",
    "start=0\n",
    "end=len(data)-1\n",
    "print(start,data[start],end,data[end])"
   ]
  },
  {
   "cell_type": "code",
   "execution_count": 11,
   "id": "90dc51af-1932-473f-b00d-f49ebe20bdec",
   "metadata": {},
   "outputs": [],
   "source": [
    " p=[10,\"heena\",1890]"
   ]
  },
  {
   "cell_type": "code",
   "execution_count": 17,
   "id": "74fc8421-6d74-40da-a0c3-387a2b472c00",
   "metadata": {},
   "outputs": [
    {
     "name": "stdout",
     "output_type": "stream",
     "text": [
      "3\n",
      "5\n"
     ]
    }
   ],
   "source": [
    "for i in range(3,7,2):\n",
    "    print(i)"
   ]
  },
  {
   "cell_type": "markdown",
   "id": "7a938f91-7e1d-4bda-a797-65a8dc3adaa7",
   "metadata": {},
   "source": [
    "## palandrom "
   ]
  },
  {
   "cell_type": "code",
   "execution_count": 2,
   "id": "1bbc6e1f-291f-4fae-85b3-325b4006494b",
   "metadata": {},
   "outputs": [
    {
     "name": "stdout",
     "output_type": "stream",
     "text": [
      "0 n 4 n\n",
      "1 a 3 a\n",
      "2 m 2 m\n",
      "3 a 1 a\n",
      "4 n 0 n\n"
     ]
    }
   ],
   "source": [
    "data=\"naman\"\n",
    "start=0\n",
    "end=len(data)-1\n",
    "while(start<len(data)):\n",
    "    print(start,data[start],end,data[end])\n",
    "    start+=1\n",
    "    end-=1"
   ]
  },
  {
   "cell_type": "code",
   "execution_count": 3,
   "id": "21dba036-fc04-4686-8268-8e26b587787a",
   "metadata": {},
   "outputs": [
    {
     "name": "stdout",
     "output_type": "stream",
     "text": [
      "0 n 4 n\n",
      "1 a 3 a\n",
      "2 m 2 m\n",
      "3 a 1 a\n",
      "4 n 0 n\n",
      "paliandrom\n"
     ]
    }
   ],
   "source": [
    "data=\"naman\"\n",
    "start=0\n",
    "end=len(data)-1\n",
    "x=0\n",
    "while(start<len(data)):\n",
    "    if (data[start]!=data[end]):\n",
    "        x=1\n",
    "        break\n",
    "    print(start,data[start],end,data[end])\n",
    "    start+=1\n",
    "    end-=1\n",
    "if(x==1):\n",
    "    print(\"note\")\n",
    "else:\n",
    "    print(\"paliandrom\")"
   ]
  },
  {
   "cell_type": "markdown",
   "id": "b668c969-7c67-4028-a1e3-756b43d93c91",
   "metadata": {},
   "source": [
    "## rajrt show repative value of r in a string "
   ]
  },
  {
   "cell_type": "code",
   "execution_count": 10,
   "id": "45f54d8e-b77e-4ba3-b31c-ef7d4adc5e56",
   "metadata": {},
   "outputs": [
    {
     "name": "stdout",
     "output_type": "stream",
     "text": [
      "3\n"
     ]
    }
   ],
   "source": [
    "data=\"rajrtr\"\n",
    "start=0\n",
    "end=len(data)-1\n",
    "count = 1\n",
    "x=0\n",
    "while(end>0):\n",
    "    if (data[start]==data[end]):\n",
    "      count+=1\n",
    "    end-=1\n",
    "\n",
    "print(count)"
   ]
  },
  {
   "cell_type": "markdown",
   "id": "34bbfb55-273b-41d6-a947-6eb684960cb0",
   "metadata": {},
   "source": [
    "## list \n",
    "         ## 1.---> it is type of datatype\n",
    "            2--> collection / store\n",
    "            3---> multipe datatype values can be stored \n",
    "            4----> mutable - we can change \n",
    "            5---> ordered  collection of elemenet\n",
    "            6---> orderd \n",
    "            "
   ]
  },
  {
   "cell_type": "code",
   "execution_count": 40,
   "id": "e983452b-a17c-419c-b40e-9a0b35417eab",
   "metadata": {},
   "outputs": [
    {
     "name": "stdout",
     "output_type": "stream",
     "text": [
      "[10, 20, 30, 40, 10]\n"
     ]
    }
   ],
   "source": [
    "ls=[10,20,30,40]\n",
    "ls.append(10)\n",
    "print(ls)"
   ]
  },
  {
   "cell_type": "code",
   "execution_count": 42,
   "id": "d1246abd-3603-4d0a-a7c1-497ddc54ec06",
   "metadata": {},
   "outputs": [
    {
     "name": "stdout",
     "output_type": "stream",
     "text": [
      "[10, 20, 30, 40, 10, 'man', 555]\n"
     ]
    }
   ],
   "source": [
    "ls.extend([\"man\",555])\n",
    "print(ls)"
   ]
  },
  {
   "cell_type": "code",
   "execution_count": 44,
   "id": "21c9526e-d700-4f81-a841-5e63502d6d79",
   "metadata": {},
   "outputs": [
    {
     "data": {
      "text/plain": [
       "555"
      ]
     },
     "execution_count": 44,
     "metadata": {},
     "output_type": "execute_result"
    }
   ],
   "source": [
    "ls.pop()"
   ]
  },
  {
   "cell_type": "code",
   "execution_count": 46,
   "id": "86a3363b-db5d-40de-8874-cea6546a7afb",
   "metadata": {},
   "outputs": [
    {
     "data": {
      "text/plain": [
       "[10, 20, 30, 40, 10, 'man']"
      ]
     },
     "execution_count": 46,
     "metadata": {},
     "output_type": "execute_result"
    }
   ],
   "source": [
    "ls"
   ]
  },
  {
   "cell_type": "code",
   "execution_count": 50,
   "id": "fd667df8-28cd-4832-b65b-c223350746bc",
   "metadata": {},
   "outputs": [
    {
     "data": {
      "text/plain": [
       "10"
      ]
     },
     "execution_count": 50,
     "metadata": {},
     "output_type": "execute_result"
    }
   ],
   "source": [
    "ls.pop(0)"
   ]
  },
  {
   "cell_type": "code",
   "execution_count": null,
   "id": "4f061488-59f1-4e16-a0db-d502b872f370",
   "metadata": {},
   "outputs": [],
   "source": []
  },
  {
   "cell_type": "code",
   "execution_count": null,
   "id": "7cf60a1d-88c7-4b2d-a60c-5c746a0ab7d9",
   "metadata": {},
   "outputs": [],
   "source": []
  }
 ],
 "metadata": {
  "kernelspec": {
   "display_name": "Python 3 (ipykernel)",
   "language": "python",
   "name": "python3"
  },
  "language_info": {
   "codemirror_mode": {
    "name": "ipython",
    "version": 3
   },
   "file_extension": ".py",
   "mimetype": "text/x-python",
   "name": "python",
   "nbconvert_exporter": "python",
   "pygments_lexer": "ipython3",
   "version": "3.12.3"
  }
 },
 "nbformat": 4,
 "nbformat_minor": 5
}
