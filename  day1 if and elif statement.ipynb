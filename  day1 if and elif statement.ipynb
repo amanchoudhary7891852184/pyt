{
 "cells": [
  {
   "cell_type": "markdown",
   "id": "90ccb790-fbb7-4691-917f-d6aea85a55b7",
   "metadata": {},
   "source": [
    "## wap to check odd or even"
   ]
  },
  {
   "cell_type": "code",
   "execution_count": 5,
   "id": "92d62d85-6802-4879-9a3f-87ee9b2beadb",
   "metadata": {},
   "outputs": [
    {
     "name": "stdin",
     "output_type": "stream",
     "text": [
      "enter your number 2\n"
     ]
    },
    {
     "name": "stdout",
     "output_type": "stream",
     "text": [
      "even\n"
     ]
    }
   ],
   "source": [
    "n=int(input(\"enter your number\"))\n",
    "if (n%2==0): \n",
    "      print(\"even\")\n",
    "else:\n",
    "    print(\"not\")"
   ]
  },
  {
   "cell_type": "markdown",
   "id": "dcc39a80-26df-4411-a23a-b049b166a734",
   "metadata": {},
   "source": [
    "## wap to check three number grater :"
   ]
  },
  {
   "cell_type": "code",
   "execution_count": 7,
   "id": "c73491ca-ebc6-47b6-a4b6-6827d4c0f7c0",
   "metadata": {},
   "outputs": [
    {
     "name": "stdin",
     "output_type": "stream",
     "text": [
      "enter your number 4\n",
      "enter your number 3\n",
      "enter your number 2\n"
     ]
    },
    {
     "name": "stdout",
     "output_type": "stream",
     "text": [
      "n1\n"
     ]
    }
   ],
   "source": [
    "n1=int(input(\"enter your number\"))\n",
    "n2=int(input(\"enter your number\"))\n",
    "n3=int(input(\"enter your number\"))\n",
    "if (n1>n2 and n1>n3): \n",
    "      print(\"n1\")\n",
    "elif(n2>n1 and n2>n3) :\n",
    "    print(\"n2\")\n",
    "elif(n2==n1 and n1==n3 and n3==n2 ) :\n",
    "    print(\"eq\")  \n",
    "else:\n",
    "    print(\"n3\")"
   ]
  },
  {
   "cell_type": "markdown",
   "id": "7ab0b286-8728-42cc-befd-fa1bf93577d5",
   "metadata": {},
   "source": [
    "## wap to check leep or not"
   ]
  },
  {
   "cell_type": "code",
   "execution_count": 16,
   "id": "4a2ab7c8-6a60-4d7c-981b-a25d035e23fc",
   "metadata": {},
   "outputs": [
    {
     "name": "stdin",
     "output_type": "stream",
     "text": [
      "enter your year: 2000\n"
     ]
    },
    {
     "name": "stdout",
     "output_type": "stream",
     "text": [
      "leap year: 2000.0\n"
     ]
    }
   ],
   "source": [
    "year=float(input(\"enter your year:\"))\n",
    "if (year%400==0 and year%100==0):\n",
    "    print(\"leap year:\",year)\n",
    "elif(year%4==0 ):\n",
    "    print(\"leeap yaer:\")\n",
    "else:\n",
    "    print(\"not\")"
   ]
  },
  {
   "cell_type": "markdown",
   "id": "8601fbb5-4416-4f60-8dee-6b886851f5cc",
   "metadata": {},
   "source": [
    "##  Write a program that takes a percentage (integer) as input and prints the corresponding grade based \n",
    "on the following criteria:     ##  \r\n",
    ">= 90: Grade          A\r\n",
    ">= 80: Grade          B\r\n",
    ">= 70: Grad          e C\r\n",
    ">= 60: Gra          de D\r\n",
    "< 60: Gr that c"
   ]
  },
  {
   "cell_type": "code",
   "execution_count": 36,
   "id": "f8956035-115f-4b3b-aaa6-ab186d7e3f09",
   "metadata": {},
   "outputs": [
    {
     "name": "stdin",
     "output_type": "stream",
     "text": [
      "enter your grade: 45\n"
     ]
    },
    {
     "name": "stdout",
     "output_type": "stream",
     "text": [
      "grade f 45.0\n"
     ]
    }
   ],
   "source": [
    "grade=float(input('enter your grade:'))\n",
    "if (grade>=90 and grade<=100):\n",
    "    print(\"grade a\",grade)\n",
    "elif(grade>=80 and grade<=89):\n",
    "    print(\"grade b\",grade)\n",
    "elif(grade>=70 and grade<=79):\n",
    "    print(\"grade c\",grade)\n",
    "elif(grade>=60 and grade<=69):\n",
    "    print(\"grade d\",grade)\n",
    "elif(grade<=60):\n",
    "    print(\"grade f\",grade)\n",
    "else:\n",
    "    print(\"error\")"
   ]
  },
  {
   "cell_type": "markdown",
   "id": "afe79637-28a6-417d-946b-4609ce5ca05b",
   "metadata": {},
   "source": [
    "## 6 Write a basic calculator program that takes two numbers and an operator (+, -, *, /) as input and n \n",
    "performs the specified operation. Print the result based on the operation. "
   ]
  },
  {
   "cell_type": "code",
   "execution_count": 39,
   "id": "924a835a-e8f7-4780-b997-acd40d85a1f5",
   "metadata": {},
   "outputs": [
    {
     "name": "stdin",
     "output_type": "stream",
     "text": [
      "enter your first number: 6\n",
      "enter your second number: 54\n"
     ]
    },
    {
     "name": "stdout",
     "output_type": "stream",
     "text": [
      "60.0\n"
     ]
    }
   ],
   "source": [
    "num1=float(input('enter your first number:'))\n",
    "num2=float(input('enter your second number:'))\n",
    "num=num1+num2\n",
    "print(num)"
   ]
  },
  {
   "cell_type": "code",
   "execution_count": 41,
   "id": "79febcda-7db8-4fd3-a5c5-e618e4df2456",
   "metadata": {},
   "outputs": [
    {
     "name": "stdin",
     "output_type": "stream",
     "text": [
      "enter your number : 5\n"
     ]
    },
    {
     "name": "stdout",
     "output_type": "stream",
     "text": [
      "2.23606797749979\n"
     ]
    }
   ],
   "source": [
    "num1=float(input(\"enter your number :\"))\n",
    "sq=num1**(0.5)\n",
    "print(sq)"
   ]
  },
  {
   "cell_type": "code",
   "execution_count": 45,
   "id": "79fe91db-9df7-4827-9b26-5ff4fe89693b",
   "metadata": {},
   "outputs": [
    {
     "name": "stdin",
     "output_type": "stream",
     "text": [
      "enter your number : 4\n"
     ]
    },
    {
     "name": "stdout",
     "output_type": "stream",
     "text": [
      "2.0\n"
     ]
    }
   ],
   "source": [
    "num1=float(input(\"enter your number :\"))\n",
    "div=num1//(2)\n",
    "print(div)"
   ]
  },
  {
   "cell_type": "code",
   "execution_count": 47,
   "id": "281d0088-6462-4560-9eaa-9e980f016003",
   "metadata": {},
   "outputs": [
    {
     "name": "stdin",
     "output_type": "stream",
     "text": [
      "enter your first number: 4\n",
      "enter your second number: 5\n"
     ]
    },
    {
     "name": "stdout",
     "output_type": "stream",
     "text": [
      "-1.0\n"
     ]
    }
   ],
   "source": [
    "num1=float(input('enter your first number:'))\n",
    "num2=float(input('enter your second number:'))\n",
    "num=num1-num2\n",
    "print(num)"
   ]
  },
  {
   "cell_type": "markdown",
   "id": "176e4c9b-ecfa-4b5d-8813-2c66af4dd4b2",
   "metadata": {},
   "source": [
    "## Write a program that takes a number as input and checks whether it is positive, negative, or zero."
   ]
  },
  {
   "cell_type": "code",
   "execution_count": 56,
   "id": "264c7409-e83d-4e47-b682-fa136e8f8272",
   "metadata": {},
   "outputs": [
    {
     "name": "stdin",
     "output_type": "stream",
     "text": [
      "enter your number 0\n"
     ]
    },
    {
     "name": "stdout",
     "output_type": "stream",
     "text": [
      "zero\n"
     ]
    }
   ],
   "source": [
    "n=int(input(\"enter your number\"))\n",
    "if (n>0): \n",
    "      print(\"positive\")\n",
    "elif(n==0):\n",
    "    print(\"zero\")\n",
    "\n",
    "else:\n",
    "    print(\"negative\")"
   ]
  },
  {
   "cell_type": "markdown",
   "id": "dfe6e6aa-9e04-4bde-b860-d730d8563133",
   "metadata": {},
   "source": [
    "## 8 Write a program that checks if a username and password entered by the user match the pre-set values\n",
    "## username = \"admin\" and password = \"1234\". If both match, print \"Login Successful\", otherwise print \"Login Failed\""
   ]
  },
  {
   "cell_type": "code",
   "execution_count": 73,
   "id": "05f59808-e99b-418b-90fb-32832368d280",
   "metadata": {},
   "outputs": [
    {
     "name": "stdin",
     "output_type": "stream",
     "text": [
      "enter your user dsf\n",
      "enter your password 1234\n"
     ]
    },
    {
     "name": "stdout",
     "output_type": "stream",
     "text": [
      "error\n"
     ]
    }
   ],
   "source": [
    "user=(input(\"enter your user\"))\n",
    "password=int(input(\"enter your password\"))\n",
    "if (user==\"admin\" and password == 1234): \n",
    "      print(\"login successful:\")\n",
    "else:\n",
    "    print(\"error\")"
   ]
  },
  {
   "cell_type": "markdown",
   "id": "9bfe41da-c93a-4dea-9549-0369e3f7bcfe",
   "metadata": {},
   "source": [
    "## Write a program that takes three sides of a triangle as input and checks if those sides form a valid\r\n",
    "triangle. A triangle is valid if the sum of any two sides is greater than the third side.\r\n",
    "Check conditions like a + b > c, b + c > a, and a + c > b."
   ]
  },
  {
   "cell_type": "code",
   "execution_count": 90,
   "id": "9bdf9174-2b16-4f8f-8ead-ecc8d48290bc",
   "metadata": {},
   "outputs": [
    {
     "name": "stdin",
     "output_type": "stream",
     "text": [
      "enter value of a 4\n",
      "enter value of b 3\n",
      "enter value of c 2\n"
     ]
    },
    {
     "name": "stdout",
     "output_type": "stream",
     "text": [
      "triangle\n"
     ]
    }
   ],
   "source": [
    "a=int(input(\"enter value of a\"))\n",
    "b=int(input(\"enter value of b\"))\n",
    "c=int(input(\"enter value of c\"))\n",
    "if (a + b > c and b + c > a and a + c > b): \n",
    "      print(\"triangle\")\n",
    "else:\n",
    "    print(\"not\")"
   ]
  },
  {
   "cell_type": "markdown",
   "id": "41841b41-196e-430a-8c35-3a0da8c9efb7",
   "metadata": {},
   "source": [
    "## Q10 Write a program that calculates the Body Mass Index (BMI) based on user input for weight (in\n",
    "kilograms) and height (in meters). Then categorize the BMI into:\n",
    "Underweight (BMI < 18.5)\n",
    "Normal weight (18.5 <= BMI < 24.9)\n",
    "Overweight (25 <= BMI < 29.9)\n",
    "Obesity (BMI >= 30)\n",
    "Use the formula: BMI = weight / (height ** 2)\n"
   ]
  },
  {
   "cell_type": "code",
   "execution_count": 96,
   "id": "6b952be4-1005-4d09-ae13-476f48c74158",
   "metadata": {},
   "outputs": [
    {
     "name": "stdin",
     "output_type": "stream",
     "text": [
      "enter your bmi 4541\n"
     ]
    },
    {
     "name": "stdout",
     "output_type": "stream",
     "text": [
      "obesity:\n"
     ]
    }
   ],
   "source": [
    "bmi=float(input(\"enter your bmi\"))\n",
    "if (bmi < 18.5):\n",
    "    print(\"underweight:\")\n",
    "elif (18.5 <= bmi < 24.9):\n",
    "    print(\"normal weight:\")\n",
    "elif (25 <= bmi < 29.9):\n",
    "    print(\"overweight:\")\n",
    "elif (bmi >= 30):\n",
    "    print(\"obesity:\")\n",
    "else:\n",
    "    print(\"invalid number:\")\n"
   ]
  },
  {
   "cell_type": "markdown",
   "id": "0dd5c8fc-5a1f-48bf-aae6-39b6846bd453",
   "metadata": {},
   "source": [
    "Q11 Write a program that calculates the discount for a product based on its price:\n",
    "If price is greater than 1000, discount is 10%\n",
    "If price is between 500 and 1000, discount is 5%\n",
    "Otherwise, no discount\n",
    "Print the final price after applying the discount.\n"
   ]
  },
  {
   "cell_type": "code",
   "execution_count": 100,
   "id": "a4c587d1-d639-43ab-8854-8a928092f4a2",
   "metadata": {},
   "outputs": [
    {
     "name": "stdin",
     "output_type": "stream",
     "text": [
      "enter your price 2000\n"
     ]
    },
    {
     "name": "stdout",
     "output_type": "stream",
     "text": [
      "final price: 2.0\n"
     ]
    }
   ],
   "source": [
    "price=float(input(\"enter your price\"))\n",
    "if (price>1000):\n",
    "    total=(price/1000)%10\n",
    "    print(\"final price:\",total)\n",
    "elif (price>500 and price<1000):\n",
    "    tatal=(price/1000)%5\n",
    "    print(\"final price:\",total)\n",
    "else:\n",
    "    print(\"not discount\")\n"
   ]
  },
  {
   "cell_type": "code",
   "execution_count": null,
   "id": "cdafda7c-3066-47f8-86a6-47fe77746db7",
   "metadata": {},
   "outputs": [],
   "source": []
  },
  {
   "cell_type": "markdown",
   "id": "f640efd5-8cde-479b-a00f-c8798fda2ea9",
   "metadata": {},
   "source": [
    "Write a program that takes the name of a month as input and prints the number of days in that\n",
    "month. Consider leap years for February.\n"
   ]
  },
  {
   "cell_type": "code",
   "execution_count": 126,
   "id": "1c5febe7-330c-484f-a661-9109d514b8d8",
   "metadata": {},
   "outputs": [
    {
     "name": "stdin",
     "output_type": "stream",
     "text": [
      "enter your month : 5\n"
     ]
    },
    {
     "name": "stdout",
     "output_type": "stream",
     "text": [
      "May\n"
     ]
    }
   ],
   "source": [
    "a=int(input(\"enter your month :\"))\n",
    "if (a==1) :\n",
    "    print(\"January\")\n",
    "elif (a == 2) :\n",
    "    print(\"February\")\n",
    "elif (a == 3) :\n",
    "    print(\"March\")\n",
    "elif (a == 4): \n",
    "    print(\"April\")\n",
    "elif (a == 5) :\n",
    "    print(\"May\")\n",
    "elif  (a == 6) :\n",
    "    print(\"June\")\n",
    "elif (a == 7): \n",
    "    print(\"July\")\n",
    "elif (a == 8): \n",
    "    print(\"August\")\n",
    "elif(a==9):\n",
    "    print(\"sep\")\n",
    "elif(a==10):\n",
    "    print(\"oct\")\n",
    "elif(a==11):\n",
    "    print(\"nov\")\n",
    "elif(a==12):\n",
    "    print(\"dec\")\n",
    "else:\n",
    "    print(\"error\")"
   ]
  },
  {
   "cell_type": "code",
   "execution_count": null,
   "id": "bac03cd4-c6ac-4b00-abdd-de0ad2cfffd8",
   "metadata": {},
   "outputs": [],
   "source": []
  },
  {
   "cell_type": "markdown",
   "id": "1b6d5e5c-b30f-4903-8137-5fdcf38e3982",
   "metadata": {},
   "source": [
    "Write a program that simulates a simple ATM. The user should be able to:\n",
    "Check balance\n",
    "Deposit money\n",
    "Withdraw money (ensure the balance doesn't go negative) Use an if-else structure to handle the user's choices."
   ]
  },
  {
   "cell_type": "code",
   "execution_count": 19,
   "id": "9a00dc45-1538-40e2-befb-0f77ff98a848",
   "metadata": {},
   "outputs": [
    {
     "name": "stdin",
     "output_type": "stream",
     "text": [
      "enter your choice: lsd\n"
     ]
    },
    {
     "name": "stdout",
     "output_type": "stream",
     "text": [
      "error:\n"
     ]
    }
   ],
   "source": [
    "choice=(input(\"enter your choice:\"))\n",
    "if(choice=='a' or choice=='A'):\n",
    "    print(\"check balance :\")\n",
    "elif(choice=='b' or choice=='B'):\n",
    "    print(\"deposit amount of money:\")\n",
    "elif(choice=='c' or choice=='C'):\n",
    "    print(\"withdraw money:\")\n",
    "else:\n",
    "    print('error:')\n"
   ]
  },
  {
   "cell_type": "markdown",
   "id": "331ded92-7b16-4488-9003-1b70e53c07b7",
   "metadata": {},
   "source": [
    "Write a program that categorizes a given age into different groups:\n",
    "Infant (0-1 year)\n",
    "Toddler (2-4 years)\n",
    "Child (5-12 years)\n",
    "Teenager (13-19 years)\n",
    "Adult (20-59 years)\n",
    "Senior (60 years and above)"
   ]
  },
  {
   "cell_type": "code",
   "execution_count": 46,
   "id": "3e06b515-ac65-4a4c-8ab7-74900cae5203",
   "metadata": {},
   "outputs": [
    {
     "name": "stdin",
     "output_type": "stream",
     "text": [
      "enter your age: 78\n"
     ]
    },
    {
     "name": "stdout",
     "output_type": "stream",
     "text": [
      "senior\n"
     ]
    }
   ],
   "source": [
    "age=float(input(\"enter your age:\"))\n",
    "if(age>=0 and age<=1):\n",
    "    print(\"Infant\")\n",
    "elif(age>=2 and age<=4):\n",
    "    print(\"Toddler:\")\n",
    "elif(age>=5 and age<=12):\n",
    "    print(\"child\")\n",
    "elif(age>=13 and age<=19):\n",
    "    print(\"teenager:\")\n",
    "elif(age>=20 and age<=59):\n",
    "    print(\"adult:\")\n",
    "elif(age>=60):\n",
    "    print(\"senior\")\n",
    "    "
   ]
  },
  {
   "cell_type": "markdown",
   "id": "286ee73b-91f6-4ac3-8883-c4c03183afcb",
   "metadata": {},
   "source": [
    "Q15 Write a program that takes an integer (1-7) as input and prints the corresponding day of the week (1\r\n",
    "for Monday, 2 for Tuesday, etc.)."
   ]
  },
  {
   "cell_type": "code",
   "execution_count": 76,
   "id": "bd2569ed-c61f-4ff4-8e2f-00fa339734af",
   "metadata": {},
   "outputs": [
    {
     "name": "stdin",
     "output_type": "stream",
     "text": [
      "enter your char 8\n"
     ]
    },
    {
     "name": "stdout",
     "output_type": "stream",
     "text": [
      "error\n"
     ]
    }
   ],
   "source": [
    "a=float(input(\"enter your char\"))\n",
    "if (a == 1):\n",
    "    print(\"mon\")\n",
    "elif (a == 2):\n",
    "    print(\"tue\")\n",
    "elif (a == 3) :\n",
    "    print(\"thr\")\n",
    "elif (a == 4): \n",
    "    print(\"wed\")\n",
    "elif (a == 5): \n",
    "    print(\"fri\")\n",
    "elif (a == 6): \n",
    "    print(\"sat\")\n",
    "elif (a == 7):\n",
    "    print(\"sun\")\n",
    "else:\n",
    "    print(\"error\")"
   ]
  },
  {
   "cell_type": "code",
   "execution_count": null,
   "id": "67d0e3fd-b40b-44b7-9cf8-bee4ef7974b4",
   "metadata": {},
   "outputs": [],
   "source": []
  }
 ],
 "metadata": {
  "kernelspec": {
   "display_name": "Python 3 (ipykernel)",
   "language": "python",
   "name": "python3"
  },
  "language_info": {
   "codemirror_mode": {
    "name": "ipython",
    "version": 3
   },
   "file_extension": ".py",
   "mimetype": "text/x-python",
   "name": "python",
   "nbconvert_exporter": "python",
   "pygments_lexer": "ipython3",
   "version": "3.12.3"
  }
 },
 "nbformat": 4,
 "nbformat_minor": 5
}
