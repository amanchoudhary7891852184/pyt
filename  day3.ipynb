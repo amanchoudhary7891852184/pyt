{
 "cells": [
  {
   "cell_type": "code",
   "execution_count": null,
   "id": "ab1c63c7-e938-455f-925a-7577545f3fd9",
   "metadata": {},
   "outputs": [],
   "source": []
  },
  {
   "cell_type": "code",
   "execution_count": 5,
   "id": "f49f6092-21c2-4ee6-bfac-36fc0ab800b2",
   "metadata": {},
   "outputs": [
    {
     "name": "stdin",
     "output_type": "stream",
     "text": [
      "enter your number: 20\n"
     ]
    },
    {
     "name": "stdout",
     "output_type": "stream",
     "text": [
      "div\n",
      "div by 5\n"
     ]
    }
   ],
   "source": [
    "num=float(input(\"enter your number:\"))\n",
    "if (num%2==0):\n",
    "    print(\"div\")\n",
    "    if(num%5==0):\n",
    "        print(\"div by 5\")\n",
    "else:\n",
    "    print(\"error\")"
   ]
  },
  {
   "cell_type": "code",
   "execution_count": 9,
   "id": "06651cd3-7127-4c94-9c74-f3cb734269d8",
   "metadata": {},
   "outputs": [
    {
     "name": "stdin",
     "output_type": "stream",
     "text": [
      "enter your age 45\n"
     ]
    },
    {
     "name": "stdout",
     "output_type": "stream",
     "text": [
      "eligible\n"
     ]
    }
   ],
   "source": [
    "age=int(input(\"enter your age\"))\n",
    "card=False\n",
    "if (age>18):\n",
    "    if(card==True):\n",
    "        print(\"vote\")\n",
    "    else:\n",
    "        print(\"eligible\")\n",
    "else:\n",
    "    print(\"small\")"
   ]
  },
  {
   "cell_type": "code",
   "execution_count": 23,
   "id": "26230203-5a28-462b-be40-91ef5c6b9d46",
   "metadata": {},
   "outputs": [
    {
     "name": "stdin",
     "output_type": "stream",
     "text": [
      "enete your number: 1\n",
      "enete your number: 0\n",
      "enete your number: 84531\n"
     ]
    },
    {
     "name": "stdout",
     "output_type": "stream",
     "text": [
      "doesnot sat\n"
     ]
    }
   ],
   "source": [
    "x=int(input(\"enete your number:\"))\n",
    "y=int(input(\"enete your number:\"))\n",
    "z=int(input(\"enete your number:\"))\n",
    "if (x>y and x>z ):\n",
    "    print(\"x is grater:\")\n",
    "    if (y>z):\n",
    "        print(\"both are sat\")\n",
    "else:\n",
    "    print(\"doesnot sat\")\n",
    "    \n",
    "    \n",
    "    "
   ]
  },
  {
   "cell_type": "markdown",
   "id": "c2be4d3d-ccde-4af6-a8ee-c377a1f6a6c9",
   "metadata": {},
   "source": [
    "# sclicing [start :stopping:[step=1]]"
   ]
  },
  {
   "cell_type": "code",
   "execution_count": 25,
   "id": "be9f9682-f6c8-4ace-8dd9-f33a24046434",
   "metadata": {},
   "outputs": [],
   "source": [
    "x='regex'"
   ]
  },
  {
   "cell_type": "code",
   "execution_count": 27,
   "id": "3edafb98-6008-414e-87c2-2ab89f717b9a",
   "metadata": {},
   "outputs": [
    {
     "data": {
      "text/plain": [
       "'r'"
      ]
     },
     "execution_count": 27,
     "metadata": {},
     "output_type": "execute_result"
    }
   ],
   "source": [
    "x[0]"
   ]
  },
  {
   "cell_type": "code",
   "execution_count": 29,
   "id": "6093634d-24d7-4dee-8251-b4bdba1f0dbd",
   "metadata": {},
   "outputs": [
    {
     "data": {
      "text/plain": [
       "'e'"
      ]
     },
     "execution_count": 29,
     "metadata": {},
     "output_type": "execute_result"
    }
   ],
   "source": [
    "x[1]"
   ]
  },
  {
   "cell_type": "code",
   "execution_count": 41,
   "id": "90efaf4e-8fb1-4fd2-97b8-34bfa90acf36",
   "metadata": {},
   "outputs": [
    {
     "data": {
      "text/plain": [
       "'e'"
      ]
     },
     "execution_count": 41,
     "metadata": {},
     "output_type": "execute_result"
    }
   ],
   "source": [
    "x[-2]"
   ]
  },
  {
   "cell_type": "code",
   "execution_count": 39,
   "id": "450f92da-d222-42f1-8160-5eb92bfbbe01",
   "metadata": {},
   "outputs": [
    {
     "data": {
      "text/plain": [
       "'g'"
      ]
     },
     "execution_count": 39,
     "metadata": {},
     "output_type": "execute_result"
    }
   ],
   "source": [
    "x[-3]"
   ]
  },
  {
   "cell_type": "code",
   "execution_count": 37,
   "id": "d45f69d3-ca57-4532-a75e-2bfd8bb084ad",
   "metadata": {},
   "outputs": [
    {
     "data": {
      "text/plain": [
       "'e'"
      ]
     },
     "execution_count": 37,
     "metadata": {},
     "output_type": "execute_result"
    }
   ],
   "source": [
    "x[-4]"
   ]
  },
  {
   "cell_type": "code",
   "execution_count": 45,
   "id": "db1432e7-d3f3-4899-a372-662c01773c0a",
   "metadata": {},
   "outputs": [
    {
     "data": {
      "text/plain": [
       "'re'"
      ]
     },
     "execution_count": 45,
     "metadata": {},
     "output_type": "execute_result"
    }
   ],
   "source": [
    "x[0:2]"
   ]
  },
  {
   "cell_type": "code",
   "execution_count": 49,
   "id": "6786d104-8514-4270-85ea-26efa5539702",
   "metadata": {},
   "outputs": [
    {
     "data": {
      "text/plain": [
       "'re'"
      ]
     },
     "execution_count": 49,
     "metadata": {},
     "output_type": "execute_result"
    }
   ],
   "source": [
    "x[0:2]"
   ]
  },
  {
   "cell_type": "code",
   "execution_count": 51,
   "id": "90827c7e-a57a-4b89-b5b1-8913231a6e8a",
   "metadata": {},
   "outputs": [
    {
     "data": {
      "text/plain": [
       "'eg'"
      ]
     },
     "execution_count": 51,
     "metadata": {},
     "output_type": "execute_result"
    }
   ],
   "source": [
    "x[1:3]"
   ]
  },
  {
   "cell_type": "code",
   "execution_count": 53,
   "id": "aabcef5b-73ac-454a-bd3f-a8e945a767aa",
   "metadata": {},
   "outputs": [
    {
     "data": {
      "text/plain": [
       "'rege'"
      ]
     },
     "execution_count": 53,
     "metadata": {},
     "output_type": "execute_result"
    }
   ],
   "source": [
    "x[:4]"
   ]
  },
  {
   "cell_type": "code",
   "execution_count": 55,
   "id": "0036b9a9-f8d6-40c6-82cc-b885d1d9d710",
   "metadata": {},
   "outputs": [
    {
     "data": {
      "text/plain": [
       "'r'"
      ]
     },
     "execution_count": 55,
     "metadata": {},
     "output_type": "execute_result"
    }
   ],
   "source": [
    "x[0:1:4]"
   ]
  },
  {
   "cell_type": "code",
   "execution_count": 59,
   "id": "15bfacf1-97bd-4ef3-9a1a-7ac009fc40f0",
   "metadata": {},
   "outputs": [
    {
     "data": {
      "text/plain": [
       "'regex'"
      ]
     },
     "execution_count": 59,
     "metadata": {},
     "output_type": "execute_result"
    }
   ],
   "source": [
    "x"
   ]
  },
  {
   "cell_type": "code",
   "execution_count": 71,
   "id": "a39a2f71-9b95-4aec-9190-c268e3840d81",
   "metadata": {},
   "outputs": [
    {
     "data": {
      "text/plain": [
       "''"
      ]
     },
     "execution_count": 71,
     "metadata": {},
     "output_type": "execute_result"
    }
   ],
   "source": [
    "x[4:-1]"
   ]
  },
  {
   "cell_type": "code",
   "execution_count": 67,
   "id": "7ce18dc8-9669-441c-ab56-4783c80f0538",
   "metadata": {},
   "outputs": [
    {
     "data": {
      "text/plain": [
       "'e'"
      ]
     },
     "execution_count": 67,
     "metadata": {},
     "output_type": "execute_result"
    }
   ],
   "source": [
    "x[3:-1]"
   ]
  },
  {
   "cell_type": "code",
   "execution_count": 75,
   "id": "6bcfd8d9-871b-4222-a600-7503ffe7b0fb",
   "metadata": {},
   "outputs": [
    {
     "data": {
      "text/plain": [
       "'ge'"
      ]
     },
     "execution_count": 75,
     "metadata": {},
     "output_type": "execute_result"
    }
   ],
   "source": [
    "x[2:-1]"
   ]
  },
  {
   "cell_type": "code",
   "execution_count": 81,
   "id": "a2ede965-90c1-4bd9-aca4-06545812cba8",
   "metadata": {},
   "outputs": [
    {
     "data": {
      "text/plain": [
       "''"
      ]
     },
     "execution_count": 81,
     "metadata": {},
     "output_type": "execute_result"
    }
   ],
   "source": [
    "x[-1:3]"
   ]
  },
  {
   "cell_type": "code",
   "execution_count": 85,
   "id": "3c47dfa3-a0c0-4546-a4d3-26ba6ee404b4",
   "metadata": {},
   "outputs": [
    {
     "data": {
      "text/plain": [
       "'ege'"
      ]
     },
     "execution_count": 85,
     "metadata": {},
     "output_type": "execute_result"
    }
   ],
   "source": [
    "x[-4:-1]"
   ]
  },
  {
   "cell_type": "code",
   "execution_count": 87,
   "id": "7bc7c6a7-23d8-4eab-b4fa-57f8b6a4b11a",
   "metadata": {},
   "outputs": [
    {
     "data": {
      "text/plain": [
       "'xeger'"
      ]
     },
     "execution_count": 87,
     "metadata": {},
     "output_type": "execute_result"
    }
   ],
   "source": [
    "x[::-1]"
   ]
  },
  {
   "cell_type": "code",
   "execution_count": 93,
   "id": "44828e29-30bc-455c-9533-f769d9a132ec",
   "metadata": {},
   "outputs": [
    {
     "data": {
      "text/plain": [
       "'r'"
      ]
     },
     "execution_count": 93,
     "metadata": {},
     "output_type": "execute_result"
    }
   ],
   "source": [
    "x[:1:]"
   ]
  },
  {
   "cell_type": "markdown",
   "id": "062884fc-78d3-4307-81d5-5036adf3e771",
   "metadata": {},
   "source": [
    "## bitwise operator :"
   ]
  },
  {
   "cell_type": "markdown",
   "id": "50558692-c4cf-4303-9d3a-c11d3760bc6e",
   "metadata": {},
   "source": [
    "#octate ----> must stored the number in side in it\n",
    "8421"
   ]
  },
  {
   "cell_type": "code",
   "execution_count": 102,
   "id": "a03090bf-bc4a-40f8-911c-cf8d041b1e60",
   "metadata": {},
   "outputs": [
    {
     "data": {
      "text/plain": [
       "8"
      ]
     },
     "execution_count": 102,
     "metadata": {},
     "output_type": "execute_result"
    }
   ],
   "source": [
    "11 & 12"
   ]
  },
  {
   "cell_type": "code",
   "execution_count": 110,
   "id": "b34771fc-07a7-4406-84a8-228410f741c4",
   "metadata": {},
   "outputs": [
    {
     "data": {
      "text/plain": [
       "15"
      ]
     },
     "execution_count": 110,
     "metadata": {},
     "output_type": "execute_result"
    }
   ],
   "source": [
    "11 | 13"
   ]
  },
  {
   "cell_type": "code",
   "execution_count": null,
   "id": "7cd7a302-cbd7-47f1-9b3a-f9bac5fa07c1",
   "metadata": {},
   "outputs": [],
   "source": []
  }
 ],
 "metadata": {
  "kernelspec": {
   "display_name": "Python 3 (ipykernel)",
   "language": "python",
   "name": "python3"
  },
  "language_info": {
   "codemirror_mode": {
    "name": "ipython",
    "version": 3
   },
   "file_extension": ".py",
   "mimetype": "text/x-python",
   "name": "python",
   "nbconvert_exporter": "python",
   "pygments_lexer": "ipython3",
   "version": "3.12.3"
  }
 },
 "nbformat": 4,
 "nbformat_minor": 5
}
